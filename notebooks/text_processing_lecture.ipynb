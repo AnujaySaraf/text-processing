{
 "cells": [
  {
   "cell_type": "markdown",
   "metadata": {
    "deletable": true,
    "editable": true
   },
   "source": [
    "Extra packages to be installed\n",
    "\n",
    "* wordcloud\n",
    "* stop_words"
   ]
  },
  {
   "cell_type": "code",
   "execution_count": 1,
   "metadata": {
    "collapsed": true,
    "deletable": true,
    "editable": true
   },
   "outputs": [],
   "source": [
    "# import sys  \n",
    "# reload(sys)  \n",
    "# sys.setdefaultencoding('utf8')"
   ]
  },
  {
   "cell_type": "markdown",
   "metadata": {
    "deletable": true,
    "editable": true
   },
   "source": [
    "# Introduction to Natural Language Processing"
   ]
  },
  {
   "cell_type": "markdown",
   "metadata": {
    "deletable": true,
    "editable": true
   },
   "source": [
    "## What is NLP?\n",
    "\n",
    ">Natural language processing (NLP) is a field of computer science, artificial intelligence and computational linguistics concerned with the interactions between computers and human (natural) languages, and, in particular, concerned with programming computers to fruitfully process large natural language corpora.  -- Wikipedia \n",
    "\n",
    "We interact with technology every single day of our lives, but humans and computers communicate in fundamentally different ways.\n",
    "\n",
    "languages like python, R, C etc. have well defined rules, where there can be only one meaning attached to a sentance.\n",
    "\n",
    "However, the languages that humans speak are more unstructured, where a single word or phrase can mean differently in two different scenarios.\n",
    "\n",
    "Most of the communication happens in such natural languages. Hence, to unlock any meaningful utilty where human language is associated, NLP is extremely important."
   ]
  },
  {
   "cell_type": "markdown",
   "metadata": {
    "deletable": true,
    "editable": true
   },
   "source": [
    "## Examples of NLP Applications\n",
    "\n",
    "1. Machine Translation\n",
    "- Search Engines\n",
    "2. Spam Filters\n",
    "- Summarization"
   ]
  },
  {
   "cell_type": "markdown",
   "metadata": {
    "deletable": true,
    "editable": true
   },
   "source": [
    "## The Past, The Present, The Future"
   ]
  },
  {
   "cell_type": "markdown",
   "metadata": {
    "deletable": true,
    "editable": true
   },
   "source": [
    "# The Usual Suspects in NLP Pipeline\n",
    "\n",
    "\n",
    "## Supervised Machine Learning with Text\n",
    "\n",
    "\n",
    "## The Bag of Words approach\n",
    "\n",
    "\n",
    "## Reading Text in"
   ]
  },
  {
   "cell_type": "markdown",
   "metadata": {
    "deletable": true,
    "editable": true
   },
   "source": [
    "# The Datasets"
   ]
  },
  {
   "cell_type": "markdown",
   "metadata": {
    "deletable": true,
    "editable": true
   },
   "source": [
    "## Haptik Domain Classification\n",
    "\n",
    "* The dataset contains two separate files for training and testing/evaluation of data.\n",
    "* Each human query/message is categorized into single/multiple domains by human annotators.\n",
    "    - *T*: message belongs to the corresponding class\n",
    "    - *F*: message does not belong to the corresponding class (column heading represents the class name)"
   ]
  },
  {
   "cell_type": "markdown",
   "metadata": {
    "deletable": true,
    "editable": true
   },
   "source": [
    "## Haptik Domain Classification\n",
    "\n",
    "* Task: train a multi-label classifier to classify \"message\" into one or more classes/domains\n",
    "* Suggested evaluation metrics\n",
    "    - Precision\n",
    "    - Recall\n",
    "    - Accuracy per class\n",
    "    - Overall Accuracy\n",
    "    \n",
    "NOTE:\n",
    "* Please note that the messages are in raw format, it also contains system specific content which may not be important for identifying domain.\n",
    "* It is important to preprocess messages and remove such information for better training."
   ]
  },
  {
   "cell_type": "code",
   "execution_count": 10,
   "metadata": {
    "collapsed": false,
    "deletable": true,
    "editable": true
   },
   "outputs": [],
   "source": [
    "import pandas as pd\n",
    "\n",
    "train_haptik = pd.read_csv('../data/domain_classification/train_data.csv')\n",
    "test_haptik = pd.read_csv('../data/domain_classification/test_data.csv')"
   ]
  },
  {
   "cell_type": "markdown",
   "metadata": {
    "deletable": true,
    "editable": true
   },
   "source": [
    "## Exploring Haptik Data"
   ]
  },
  {
   "cell_type": "code",
   "execution_count": 3,
   "metadata": {
    "collapsed": false,
    "deletable": true,
    "editable": true
   },
   "outputs": [
    {
     "data": {
      "text/html": [
       "<div>\n",
       "<style>\n",
       "    .dataframe thead tr:only-child th {\n",
       "        text-align: right;\n",
       "    }\n",
       "\n",
       "    .dataframe thead th {\n",
       "        text-align: left;\n",
       "    }\n",
       "\n",
       "    .dataframe tbody tr th {\n",
       "        vertical-align: top;\n",
       "    }\n",
       "</style>\n",
       "<table border=\"1\" class=\"dataframe\">\n",
       "  <thead>\n",
       "    <tr style=\"text-align: right;\">\n",
       "      <th></th>\n",
       "      <th>message</th>\n",
       "      <th>food</th>\n",
       "      <th>recharge</th>\n",
       "      <th>support</th>\n",
       "      <th>reminders</th>\n",
       "      <th>travel</th>\n",
       "      <th>nearby</th>\n",
       "      <th>movies</th>\n",
       "      <th>casual</th>\n",
       "      <th>other</th>\n",
       "    </tr>\n",
       "  </thead>\n",
       "  <tbody>\n",
       "    <tr>\n",
       "      <th>0</th>\n",
       "      <td>7am everyday</td>\n",
       "      <td>F</td>\n",
       "      <td>F</td>\n",
       "      <td>F</td>\n",
       "      <td>T</td>\n",
       "      <td>F</td>\n",
       "      <td>F</td>\n",
       "      <td>F</td>\n",
       "      <td>F</td>\n",
       "      <td>F</td>\n",
       "    </tr>\n",
       "    <tr>\n",
       "      <th>1</th>\n",
       "      <td>chocolate cake</td>\n",
       "      <td>T</td>\n",
       "      <td>F</td>\n",
       "      <td>F</td>\n",
       "      <td>F</td>\n",
       "      <td>F</td>\n",
       "      <td>F</td>\n",
       "      <td>F</td>\n",
       "      <td>F</td>\n",
       "      <td>F</td>\n",
       "    </tr>\n",
       "    <tr>\n",
       "      <th>2</th>\n",
       "      <td>closed mortice and tenon joint door dimentions</td>\n",
       "      <td>F</td>\n",
       "      <td>F</td>\n",
       "      <td>T</td>\n",
       "      <td>F</td>\n",
       "      <td>F</td>\n",
       "      <td>F</td>\n",
       "      <td>F</td>\n",
       "      <td>F</td>\n",
       "      <td>F</td>\n",
       "    </tr>\n",
       "    <tr>\n",
       "      <th>3</th>\n",
       "      <td>train eppo kelambum</td>\n",
       "      <td>F</td>\n",
       "      <td>F</td>\n",
       "      <td>F</td>\n",
       "      <td>F</td>\n",
       "      <td>T</td>\n",
       "      <td>F</td>\n",
       "      <td>F</td>\n",
       "      <td>F</td>\n",
       "      <td>F</td>\n",
       "    </tr>\n",
       "    <tr>\n",
       "      <th>4</th>\n",
       "      <td>yesterday i have cancelled the flight ticket</td>\n",
       "      <td>F</td>\n",
       "      <td>F</td>\n",
       "      <td>F</td>\n",
       "      <td>F</td>\n",
       "      <td>T</td>\n",
       "      <td>F</td>\n",
       "      <td>F</td>\n",
       "      <td>F</td>\n",
       "      <td>F</td>\n",
       "    </tr>\n",
       "  </tbody>\n",
       "</table>\n",
       "</div>"
      ],
      "text/plain": [
       "                                          message food recharge support  \\\n",
       "0                                    7am everyday    F        F       F   \n",
       "1                                  chocolate cake    T        F       F   \n",
       "2  closed mortice and tenon joint door dimentions    F        F       T   \n",
       "3                             train eppo kelambum    F        F       F   \n",
       "4    yesterday i have cancelled the flight ticket    F        F       F   \n",
       "\n",
       "  reminders travel nearby movies casual other  \n",
       "0         T      F      F      F      F     F  \n",
       "1         F      F      F      F      F     F  \n",
       "2         F      F      F      F      F     F  \n",
       "3         F      T      F      F      F     F  \n",
       "4         F      T      F      F      F     F  "
      ]
     },
     "execution_count": 3,
     "metadata": {},
     "output_type": "execute_result"
    }
   ],
   "source": [
    "train_haptik.head()"
   ]
  },
  {
   "cell_type": "markdown",
   "metadata": {
    "deletable": true,
    "editable": true
   },
   "source": [
    "## Exploring Haptik Data"
   ]
  },
  {
   "cell_type": "code",
   "execution_count": 4,
   "metadata": {
    "collapsed": false,
    "deletable": true,
    "editable": true
   },
   "outputs": [
    {
     "data": {
      "text/html": [
       "<div>\n",
       "<style>\n",
       "    .dataframe thead tr:only-child th {\n",
       "        text-align: right;\n",
       "    }\n",
       "\n",
       "    .dataframe thead th {\n",
       "        text-align: left;\n",
       "    }\n",
       "\n",
       "    .dataframe tbody tr th {\n",
       "        vertical-align: top;\n",
       "    }\n",
       "</style>\n",
       "<table border=\"1\" class=\"dataframe\">\n",
       "  <thead>\n",
       "    <tr style=\"text-align: right;\">\n",
       "      <th></th>\n",
       "      <th>message</th>\n",
       "      <th>food</th>\n",
       "      <th>recharge</th>\n",
       "      <th>support</th>\n",
       "      <th>reminders</th>\n",
       "      <th>travel</th>\n",
       "      <th>nearby</th>\n",
       "      <th>movies</th>\n",
       "      <th>casual</th>\n",
       "      <th>other</th>\n",
       "    </tr>\n",
       "  </thead>\n",
       "  <tbody>\n",
       "    <tr>\n",
       "      <th>0</th>\n",
       "      <td>Nearest metro station</td>\n",
       "      <td>F</td>\n",
       "      <td>F</td>\n",
       "      <td>F</td>\n",
       "      <td>F</td>\n",
       "      <td>F</td>\n",
       "      <td>T</td>\n",
       "      <td>F</td>\n",
       "      <td>F</td>\n",
       "      <td>F</td>\n",
       "    </tr>\n",
       "    <tr>\n",
       "      <th>1</th>\n",
       "      <td>Pick up n drop service trough cab</td>\n",
       "      <td>F</td>\n",
       "      <td>F</td>\n",
       "      <td>F</td>\n",
       "      <td>F</td>\n",
       "      <td>T</td>\n",
       "      <td>F</td>\n",
       "      <td>F</td>\n",
       "      <td>F</td>\n",
       "      <td>F</td>\n",
       "    </tr>\n",
       "    <tr>\n",
       "      <th>2</th>\n",
       "      <td>I wants to buy a bick</td>\n",
       "      <td>F</td>\n",
       "      <td>F</td>\n",
       "      <td>F</td>\n",
       "      <td>F</td>\n",
       "      <td>F</td>\n",
       "      <td>F</td>\n",
       "      <td>F</td>\n",
       "      <td>F</td>\n",
       "      <td>T</td>\n",
       "    </tr>\n",
       "    <tr>\n",
       "      <th>3</th>\n",
       "      <td>Show me pizza</td>\n",
       "      <td>T</td>\n",
       "      <td>F</td>\n",
       "      <td>F</td>\n",
       "      <td>F</td>\n",
       "      <td>F</td>\n",
       "      <td>F</td>\n",
       "      <td>F</td>\n",
       "      <td>F</td>\n",
       "      <td>F</td>\n",
       "    </tr>\n",
       "    <tr>\n",
       "      <th>4</th>\n",
       "      <td>What is the cheapest package to andaman and ni...</td>\n",
       "      <td>F</td>\n",
       "      <td>F</td>\n",
       "      <td>F</td>\n",
       "      <td>F</td>\n",
       "      <td>T</td>\n",
       "      <td>F</td>\n",
       "      <td>F</td>\n",
       "      <td>F</td>\n",
       "      <td>F</td>\n",
       "    </tr>\n",
       "  </tbody>\n",
       "</table>\n",
       "</div>"
      ],
      "text/plain": [
       "                                             message food recharge support  \\\n",
       "0                              Nearest metro station    F        F       F   \n",
       "1                  Pick up n drop service trough cab    F        F       F   \n",
       "2                              I wants to buy a bick    F        F       F   \n",
       "3                                      Show me pizza    T        F       F   \n",
       "4  What is the cheapest package to andaman and ni...    F        F       F   \n",
       "\n",
       "  reminders travel nearby movies casual other  \n",
       "0         F      F      T      F      F     F  \n",
       "1         F      T      F      F      F     F  \n",
       "2         F      F      F      F      F     T  \n",
       "3         F      F      F      F      F     F  \n",
       "4         F      T      F      F      F     F  "
      ]
     },
     "execution_count": 4,
     "metadata": {},
     "output_type": "execute_result"
    }
   ],
   "source": [
    "test_haptik.head()"
   ]
  },
  {
   "cell_type": "markdown",
   "metadata": {
    "deletable": true,
    "editable": true
   },
   "source": [
    "## The 20 Newsgroups dataset\n",
    "\n",
    "* [Official Website](http://qwone.com/~jason/20Newsgroups/)\n",
    "* The 20 Newsgroups data set is a collection of approximately 20,000 newsgroup documents, partitioned (nearly) evenly across 20 different newsgroups.\n",
    "* The 20 newsgroups collection has become a popular data set for experiments in text applications of machine learning techniques, such as text classification and text clustering.\n",
    "\n",
    "## The 20 Newsgroups dataset\n",
    "\n",
    "* In the following we will use the built-in dataset loader for 20 newsgroups from scikit-learn.\n",
    "* In order to get faster execution times, we will work on a partial dataset with only 4 categories out of the 20 available in the dataset."
   ]
  },
  {
   "cell_type": "code",
   "execution_count": 5,
   "metadata": {
    "collapsed": true,
    "deletable": true,
    "editable": true
   },
   "outputs": [],
   "source": [
    "categories = ['alt.atheism', 'soc.religion.christian', 'comp.graphics', 'sci.med']\n",
    "from sklearn.datasets import fetch_20newsgroups\n",
    "twenty_train = fetch_20newsgroups(subset='train', categories=categories, shuffle=True, random_state=42)"
   ]
  },
  {
   "cell_type": "markdown",
   "metadata": {
    "deletable": true,
    "editable": true
   },
   "source": [
    "## The 20 Newsgroups dataset\n",
    "\n",
    "The returned dataset is a scikit-learn “bunch”:\n",
    "\n",
    "* a simple holder object with fields that can be both accessed as python dict keys or object attributes for convenience\n",
    "* for instance, the *target_names* holds the list of the requested category names:"
   ]
  },
  {
   "cell_type": "code",
   "execution_count": 6,
   "metadata": {
    "collapsed": false,
    "deletable": true,
    "editable": true
   },
   "outputs": [
    {
     "data": {
      "text/plain": [
       "['alt.atheism', 'comp.graphics', 'sci.med', 'soc.religion.christian']"
      ]
     },
     "execution_count": 6,
     "metadata": {},
     "output_type": "execute_result"
    }
   ],
   "source": [
    "twenty_train.target_names"
   ]
  },
  {
   "cell_type": "markdown",
   "metadata": {
    "deletable": true,
    "editable": true
   },
   "source": [
    "# Haptik Domain Classification\n",
    "\n",
    "## Agenda\n",
    "\n",
    "* Tokenization\n",
    "* Stop-word Removal\n",
    "* Stemming\n",
    "* Word Cloud\n",
    "* TF-IDF"
   ]
  },
  {
   "cell_type": "markdown",
   "metadata": {
    "deletable": true,
    "editable": true
   },
   "source": [
    "## Constructing the Datasets\n",
    "\n",
    "It would be desiarable to split the Haptik dataset into the following parts:\n",
    "\n",
    "* X_train\n",
    "* y_train\n",
    "* X_test\n",
    "* y_test"
   ]
  },
  {
   "cell_type": "code",
   "execution_count": 7,
   "metadata": {
    "collapsed": true,
    "deletable": true,
    "editable": true
   },
   "outputs": [],
   "source": [
    "X_train = train_haptik.iloc[:, 0]\n",
    "X_train1 = train_haptik.iloc[:, 0]\n",
    "X_test = test_haptik.iloc[:, 0]\n",
    "\n",
    "y_train = train_haptik.iloc[:, 1:]\n",
    "y_test = test_haptik.iloc[:, 1:]"
   ]
  },
  {
   "cell_type": "markdown",
   "metadata": {
    "deletable": true,
    "editable": true
   },
   "source": [
    "## Constructing the Datasets - X_train"
   ]
  },
  {
   "cell_type": "code",
   "execution_count": 8,
   "metadata": {
    "collapsed": false,
    "deletable": true,
    "editable": true
   },
   "outputs": [
    {
     "data": {
      "text/plain": [
       "0                                      7am everyday\n",
       "1                                    chocolate cake\n",
       "2    closed mortice and tenon joint door dimentions\n",
       "3                               train eppo kelambum\n",
       "4      yesterday i have cancelled the flight ticket\n",
       "Name: message, dtype: object"
      ]
     },
     "execution_count": 8,
     "metadata": {},
     "output_type": "execute_result"
    }
   ],
   "source": [
    "X_train.head()"
   ]
  },
  {
   "cell_type": "code",
   "execution_count": 9,
   "metadata": {
    "collapsed": false,
    "deletable": true,
    "editable": true
   },
   "outputs": [
    {
     "data": {
      "text/plain": [
       "(40659,)"
      ]
     },
     "execution_count": 9,
     "metadata": {},
     "output_type": "execute_result"
    }
   ],
   "source": [
    "X_train.shape"
   ]
  },
  {
   "cell_type": "markdown",
   "metadata": {
    "deletable": true,
    "editable": true
   },
   "source": [
    "## Constructing the Datasets - X_test"
   ]
  },
  {
   "cell_type": "code",
   "execution_count": 10,
   "metadata": {
    "collapsed": false,
    "deletable": true,
    "editable": true
   },
   "outputs": [
    {
     "data": {
      "text/plain": [
       "0                                Nearest metro station\n",
       "1                    Pick up n drop service trough cab\n",
       "2                                I wants to buy a bick\n",
       "3                                        Show me pizza\n",
       "4    What is the cheapest package to andaman and ni...\n",
       "Name: message, dtype: object"
      ]
     },
     "execution_count": 10,
     "metadata": {},
     "output_type": "execute_result"
    }
   ],
   "source": [
    "X_test.head()"
   ]
  },
  {
   "cell_type": "markdown",
   "metadata": {
    "deletable": true,
    "editable": true
   },
   "source": [
    "## Constructing the Datasets - y_train"
   ]
  },
  {
   "cell_type": "code",
   "execution_count": 11,
   "metadata": {
    "collapsed": false,
    "deletable": true,
    "editable": true
   },
   "outputs": [
    {
     "data": {
      "text/html": [
       "<div>\n",
       "<style>\n",
       "    .dataframe thead tr:only-child th {\n",
       "        text-align: right;\n",
       "    }\n",
       "\n",
       "    .dataframe thead th {\n",
       "        text-align: left;\n",
       "    }\n",
       "\n",
       "    .dataframe tbody tr th {\n",
       "        vertical-align: top;\n",
       "    }\n",
       "</style>\n",
       "<table border=\"1\" class=\"dataframe\">\n",
       "  <thead>\n",
       "    <tr style=\"text-align: right;\">\n",
       "      <th></th>\n",
       "      <th>food</th>\n",
       "      <th>recharge</th>\n",
       "      <th>support</th>\n",
       "      <th>reminders</th>\n",
       "      <th>travel</th>\n",
       "      <th>nearby</th>\n",
       "      <th>movies</th>\n",
       "      <th>casual</th>\n",
       "      <th>other</th>\n",
       "    </tr>\n",
       "  </thead>\n",
       "  <tbody>\n",
       "    <tr>\n",
       "      <th>0</th>\n",
       "      <td>F</td>\n",
       "      <td>F</td>\n",
       "      <td>F</td>\n",
       "      <td>T</td>\n",
       "      <td>F</td>\n",
       "      <td>F</td>\n",
       "      <td>F</td>\n",
       "      <td>F</td>\n",
       "      <td>F</td>\n",
       "    </tr>\n",
       "    <tr>\n",
       "      <th>1</th>\n",
       "      <td>T</td>\n",
       "      <td>F</td>\n",
       "      <td>F</td>\n",
       "      <td>F</td>\n",
       "      <td>F</td>\n",
       "      <td>F</td>\n",
       "      <td>F</td>\n",
       "      <td>F</td>\n",
       "      <td>F</td>\n",
       "    </tr>\n",
       "    <tr>\n",
       "      <th>2</th>\n",
       "      <td>F</td>\n",
       "      <td>F</td>\n",
       "      <td>T</td>\n",
       "      <td>F</td>\n",
       "      <td>F</td>\n",
       "      <td>F</td>\n",
       "      <td>F</td>\n",
       "      <td>F</td>\n",
       "      <td>F</td>\n",
       "    </tr>\n",
       "    <tr>\n",
       "      <th>3</th>\n",
       "      <td>F</td>\n",
       "      <td>F</td>\n",
       "      <td>F</td>\n",
       "      <td>F</td>\n",
       "      <td>T</td>\n",
       "      <td>F</td>\n",
       "      <td>F</td>\n",
       "      <td>F</td>\n",
       "      <td>F</td>\n",
       "    </tr>\n",
       "    <tr>\n",
       "      <th>4</th>\n",
       "      <td>F</td>\n",
       "      <td>F</td>\n",
       "      <td>F</td>\n",
       "      <td>F</td>\n",
       "      <td>T</td>\n",
       "      <td>F</td>\n",
       "      <td>F</td>\n",
       "      <td>F</td>\n",
       "      <td>F</td>\n",
       "    </tr>\n",
       "  </tbody>\n",
       "</table>\n",
       "</div>"
      ],
      "text/plain": [
       "  food recharge support reminders travel nearby movies casual other\n",
       "0    F        F       F         T      F      F      F      F     F\n",
       "1    T        F       F         F      F      F      F      F     F\n",
       "2    F        F       T         F      F      F      F      F     F\n",
       "3    F        F       F         F      T      F      F      F     F\n",
       "4    F        F       F         F      T      F      F      F     F"
      ]
     },
     "execution_count": 11,
     "metadata": {},
     "output_type": "execute_result"
    }
   ],
   "source": [
    "y_train.head()"
   ]
  },
  {
   "cell_type": "markdown",
   "metadata": {
    "deletable": true,
    "editable": true
   },
   "source": [
    "## Constructing the Datasets - y_test"
   ]
  },
  {
   "cell_type": "code",
   "execution_count": 12,
   "metadata": {
    "collapsed": false,
    "deletable": true,
    "editable": true
   },
   "outputs": [
    {
     "data": {
      "text/html": [
       "<div>\n",
       "<style>\n",
       "    .dataframe thead tr:only-child th {\n",
       "        text-align: right;\n",
       "    }\n",
       "\n",
       "    .dataframe thead th {\n",
       "        text-align: left;\n",
       "    }\n",
       "\n",
       "    .dataframe tbody tr th {\n",
       "        vertical-align: top;\n",
       "    }\n",
       "</style>\n",
       "<table border=\"1\" class=\"dataframe\">\n",
       "  <thead>\n",
       "    <tr style=\"text-align: right;\">\n",
       "      <th></th>\n",
       "      <th>food</th>\n",
       "      <th>recharge</th>\n",
       "      <th>support</th>\n",
       "      <th>reminders</th>\n",
       "      <th>travel</th>\n",
       "      <th>nearby</th>\n",
       "      <th>movies</th>\n",
       "      <th>casual</th>\n",
       "      <th>other</th>\n",
       "    </tr>\n",
       "  </thead>\n",
       "  <tbody>\n",
       "    <tr>\n",
       "      <th>0</th>\n",
       "      <td>F</td>\n",
       "      <td>F</td>\n",
       "      <td>F</td>\n",
       "      <td>T</td>\n",
       "      <td>F</td>\n",
       "      <td>F</td>\n",
       "      <td>F</td>\n",
       "      <td>F</td>\n",
       "      <td>F</td>\n",
       "    </tr>\n",
       "    <tr>\n",
       "      <th>1</th>\n",
       "      <td>T</td>\n",
       "      <td>F</td>\n",
       "      <td>F</td>\n",
       "      <td>F</td>\n",
       "      <td>F</td>\n",
       "      <td>F</td>\n",
       "      <td>F</td>\n",
       "      <td>F</td>\n",
       "      <td>F</td>\n",
       "    </tr>\n",
       "    <tr>\n",
       "      <th>2</th>\n",
       "      <td>F</td>\n",
       "      <td>F</td>\n",
       "      <td>T</td>\n",
       "      <td>F</td>\n",
       "      <td>F</td>\n",
       "      <td>F</td>\n",
       "      <td>F</td>\n",
       "      <td>F</td>\n",
       "      <td>F</td>\n",
       "    </tr>\n",
       "    <tr>\n",
       "      <th>3</th>\n",
       "      <td>F</td>\n",
       "      <td>F</td>\n",
       "      <td>F</td>\n",
       "      <td>F</td>\n",
       "      <td>T</td>\n",
       "      <td>F</td>\n",
       "      <td>F</td>\n",
       "      <td>F</td>\n",
       "      <td>F</td>\n",
       "    </tr>\n",
       "    <tr>\n",
       "      <th>4</th>\n",
       "      <td>F</td>\n",
       "      <td>F</td>\n",
       "      <td>F</td>\n",
       "      <td>F</td>\n",
       "      <td>T</td>\n",
       "      <td>F</td>\n",
       "      <td>F</td>\n",
       "      <td>F</td>\n",
       "      <td>F</td>\n",
       "    </tr>\n",
       "  </tbody>\n",
       "</table>\n",
       "</div>"
      ],
      "text/plain": [
       "  food recharge support reminders travel nearby movies casual other\n",
       "0    F        F       F         T      F      F      F      F     F\n",
       "1    T        F       F         F      F      F      F      F     F\n",
       "2    F        F       T         F      F      F      F      F     F\n",
       "3    F        F       F         F      T      F      F      F     F\n",
       "4    F        F       F         F      T      F      F      F     F"
      ]
     },
     "execution_count": 12,
     "metadata": {},
     "output_type": "execute_result"
    }
   ],
   "source": [
    "y_train.head()"
   ]
  },
  {
   "cell_type": "markdown",
   "metadata": {
    "deletable": true,
    "editable": true
   },
   "source": [
    "## Reversing One-Hot"
   ]
  },
  {
   "cell_type": "code",
   "execution_count": 13,
   "metadata": {
    "collapsed": true,
    "deletable": true,
    "editable": true
   },
   "outputs": [],
   "source": [
    "def text2num(df):\n",
    "    for colname in list(df.columns):\n",
    "        df[colname] = df[colname].astype(str).map({'F':0, 'T':1})\n",
    "    return(df)"
   ]
  },
  {
   "cell_type": "code",
   "execution_count": null,
   "metadata": {
    "collapsed": false,
    "deletable": true,
    "editable": true
   },
   "outputs": [],
   "source": [
    "text2num(y_train)\n",
    "text2num(y_test)\n",
    "print('done')"
   ]
  },
  {
   "cell_type": "markdown",
   "metadata": {
    "deletable": true,
    "editable": true
   },
   "source": [
    "## Reversing One-Hot"
   ]
  },
  {
   "cell_type": "code",
   "execution_count": 15,
   "metadata": {
    "collapsed": false,
    "deletable": true,
    "editable": true,
    "scrolled": true
   },
   "outputs": [
    {
     "data": {
      "text/html": [
       "<div>\n",
       "<style>\n",
       "    .dataframe thead tr:only-child th {\n",
       "        text-align: right;\n",
       "    }\n",
       "\n",
       "    .dataframe thead th {\n",
       "        text-align: left;\n",
       "    }\n",
       "\n",
       "    .dataframe tbody tr th {\n",
       "        vertical-align: top;\n",
       "    }\n",
       "</style>\n",
       "<table border=\"1\" class=\"dataframe\">\n",
       "  <thead>\n",
       "    <tr style=\"text-align: right;\">\n",
       "      <th></th>\n",
       "      <th>food</th>\n",
       "      <th>recharge</th>\n",
       "      <th>support</th>\n",
       "      <th>reminders</th>\n",
       "      <th>travel</th>\n",
       "      <th>nearby</th>\n",
       "      <th>movies</th>\n",
       "      <th>casual</th>\n",
       "      <th>other</th>\n",
       "    </tr>\n",
       "  </thead>\n",
       "  <tbody>\n",
       "    <tr>\n",
       "      <th>0</th>\n",
       "      <td>0</td>\n",
       "      <td>0</td>\n",
       "      <td>0</td>\n",
       "      <td>1</td>\n",
       "      <td>0</td>\n",
       "      <td>0</td>\n",
       "      <td>0</td>\n",
       "      <td>0</td>\n",
       "      <td>0</td>\n",
       "    </tr>\n",
       "    <tr>\n",
       "      <th>1</th>\n",
       "      <td>1</td>\n",
       "      <td>0</td>\n",
       "      <td>0</td>\n",
       "      <td>0</td>\n",
       "      <td>0</td>\n",
       "      <td>0</td>\n",
       "      <td>0</td>\n",
       "      <td>0</td>\n",
       "      <td>0</td>\n",
       "    </tr>\n",
       "    <tr>\n",
       "      <th>2</th>\n",
       "      <td>0</td>\n",
       "      <td>0</td>\n",
       "      <td>1</td>\n",
       "      <td>0</td>\n",
       "      <td>0</td>\n",
       "      <td>0</td>\n",
       "      <td>0</td>\n",
       "      <td>0</td>\n",
       "      <td>0</td>\n",
       "    </tr>\n",
       "    <tr>\n",
       "      <th>3</th>\n",
       "      <td>0</td>\n",
       "      <td>0</td>\n",
       "      <td>0</td>\n",
       "      <td>0</td>\n",
       "      <td>1</td>\n",
       "      <td>0</td>\n",
       "      <td>0</td>\n",
       "      <td>0</td>\n",
       "      <td>0</td>\n",
       "    </tr>\n",
       "    <tr>\n",
       "      <th>4</th>\n",
       "      <td>0</td>\n",
       "      <td>0</td>\n",
       "      <td>0</td>\n",
       "      <td>0</td>\n",
       "      <td>1</td>\n",
       "      <td>0</td>\n",
       "      <td>0</td>\n",
       "      <td>0</td>\n",
       "      <td>0</td>\n",
       "    </tr>\n",
       "    <tr>\n",
       "      <th>5</th>\n",
       "      <td>0</td>\n",
       "      <td>0</td>\n",
       "      <td>0</td>\n",
       "      <td>0</td>\n",
       "      <td>1</td>\n",
       "      <td>0</td>\n",
       "      <td>0</td>\n",
       "      <td>0</td>\n",
       "      <td>0</td>\n",
       "    </tr>\n",
       "    <tr>\n",
       "      <th>6</th>\n",
       "      <td>0</td>\n",
       "      <td>0</td>\n",
       "      <td>0</td>\n",
       "      <td>0</td>\n",
       "      <td>1</td>\n",
       "      <td>0</td>\n",
       "      <td>0</td>\n",
       "      <td>0</td>\n",
       "      <td>0</td>\n",
       "    </tr>\n",
       "    <tr>\n",
       "      <th>7</th>\n",
       "      <td>0</td>\n",
       "      <td>0</td>\n",
       "      <td>0</td>\n",
       "      <td>0</td>\n",
       "      <td>1</td>\n",
       "      <td>0</td>\n",
       "      <td>1</td>\n",
       "      <td>0</td>\n",
       "      <td>0</td>\n",
       "    </tr>\n",
       "    <tr>\n",
       "      <th>8</th>\n",
       "      <td>0</td>\n",
       "      <td>0</td>\n",
       "      <td>0</td>\n",
       "      <td>0</td>\n",
       "      <td>1</td>\n",
       "      <td>0</td>\n",
       "      <td>0</td>\n",
       "      <td>0</td>\n",
       "      <td>0</td>\n",
       "    </tr>\n",
       "    <tr>\n",
       "      <th>9</th>\n",
       "      <td>0</td>\n",
       "      <td>0</td>\n",
       "      <td>0</td>\n",
       "      <td>1</td>\n",
       "      <td>0</td>\n",
       "      <td>0</td>\n",
       "      <td>0</td>\n",
       "      <td>0</td>\n",
       "      <td>0</td>\n",
       "    </tr>\n",
       "    <tr>\n",
       "      <th>10</th>\n",
       "      <td>0</td>\n",
       "      <td>0</td>\n",
       "      <td>0</td>\n",
       "      <td>0</td>\n",
       "      <td>0</td>\n",
       "      <td>1</td>\n",
       "      <td>0</td>\n",
       "      <td>0</td>\n",
       "      <td>0</td>\n",
       "    </tr>\n",
       "    <tr>\n",
       "      <th>11</th>\n",
       "      <td>1</td>\n",
       "      <td>0</td>\n",
       "      <td>1</td>\n",
       "      <td>0</td>\n",
       "      <td>1</td>\n",
       "      <td>0</td>\n",
       "      <td>0</td>\n",
       "      <td>0</td>\n",
       "      <td>0</td>\n",
       "    </tr>\n",
       "    <tr>\n",
       "      <th>12</th>\n",
       "      <td>0</td>\n",
       "      <td>0</td>\n",
       "      <td>0</td>\n",
       "      <td>0</td>\n",
       "      <td>1</td>\n",
       "      <td>0</td>\n",
       "      <td>0</td>\n",
       "      <td>0</td>\n",
       "      <td>0</td>\n",
       "    </tr>\n",
       "    <tr>\n",
       "      <th>13</th>\n",
       "      <td>0</td>\n",
       "      <td>0</td>\n",
       "      <td>0</td>\n",
       "      <td>0</td>\n",
       "      <td>1</td>\n",
       "      <td>0</td>\n",
       "      <td>0</td>\n",
       "      <td>0</td>\n",
       "      <td>0</td>\n",
       "    </tr>\n",
       "    <tr>\n",
       "      <th>14</th>\n",
       "      <td>0</td>\n",
       "      <td>0</td>\n",
       "      <td>0</td>\n",
       "      <td>0</td>\n",
       "      <td>1</td>\n",
       "      <td>0</td>\n",
       "      <td>0</td>\n",
       "      <td>0</td>\n",
       "      <td>0</td>\n",
       "    </tr>\n",
       "    <tr>\n",
       "      <th>15</th>\n",
       "      <td>0</td>\n",
       "      <td>0</td>\n",
       "      <td>0</td>\n",
       "      <td>0</td>\n",
       "      <td>1</td>\n",
       "      <td>0</td>\n",
       "      <td>0</td>\n",
       "      <td>0</td>\n",
       "      <td>0</td>\n",
       "    </tr>\n",
       "    <tr>\n",
       "      <th>16</th>\n",
       "      <td>0</td>\n",
       "      <td>0</td>\n",
       "      <td>0</td>\n",
       "      <td>0</td>\n",
       "      <td>1</td>\n",
       "      <td>0</td>\n",
       "      <td>0</td>\n",
       "      <td>0</td>\n",
       "      <td>0</td>\n",
       "    </tr>\n",
       "    <tr>\n",
       "      <th>17</th>\n",
       "      <td>0</td>\n",
       "      <td>0</td>\n",
       "      <td>0</td>\n",
       "      <td>0</td>\n",
       "      <td>1</td>\n",
       "      <td>0</td>\n",
       "      <td>0</td>\n",
       "      <td>0</td>\n",
       "      <td>0</td>\n",
       "    </tr>\n",
       "    <tr>\n",
       "      <th>18</th>\n",
       "      <td>0</td>\n",
       "      <td>0</td>\n",
       "      <td>0</td>\n",
       "      <td>1</td>\n",
       "      <td>0</td>\n",
       "      <td>0</td>\n",
       "      <td>0</td>\n",
       "      <td>0</td>\n",
       "      <td>0</td>\n",
       "    </tr>\n",
       "    <tr>\n",
       "      <th>19</th>\n",
       "      <td>0</td>\n",
       "      <td>0</td>\n",
       "      <td>0</td>\n",
       "      <td>1</td>\n",
       "      <td>0</td>\n",
       "      <td>0</td>\n",
       "      <td>0</td>\n",
       "      <td>0</td>\n",
       "      <td>0</td>\n",
       "    </tr>\n",
       "    <tr>\n",
       "      <th>20</th>\n",
       "      <td>0</td>\n",
       "      <td>0</td>\n",
       "      <td>0</td>\n",
       "      <td>0</td>\n",
       "      <td>1</td>\n",
       "      <td>0</td>\n",
       "      <td>0</td>\n",
       "      <td>0</td>\n",
       "      <td>0</td>\n",
       "    </tr>\n",
       "    <tr>\n",
       "      <th>21</th>\n",
       "      <td>0</td>\n",
       "      <td>0</td>\n",
       "      <td>0</td>\n",
       "      <td>0</td>\n",
       "      <td>1</td>\n",
       "      <td>0</td>\n",
       "      <td>0</td>\n",
       "      <td>0</td>\n",
       "      <td>0</td>\n",
       "    </tr>\n",
       "    <tr>\n",
       "      <th>22</th>\n",
       "      <td>0</td>\n",
       "      <td>0</td>\n",
       "      <td>0</td>\n",
       "      <td>1</td>\n",
       "      <td>0</td>\n",
       "      <td>0</td>\n",
       "      <td>0</td>\n",
       "      <td>0</td>\n",
       "      <td>0</td>\n",
       "    </tr>\n",
       "    <tr>\n",
       "      <th>23</th>\n",
       "      <td>0</td>\n",
       "      <td>0</td>\n",
       "      <td>0</td>\n",
       "      <td>1</td>\n",
       "      <td>0</td>\n",
       "      <td>0</td>\n",
       "      <td>0</td>\n",
       "      <td>0</td>\n",
       "      <td>0</td>\n",
       "    </tr>\n",
       "    <tr>\n",
       "      <th>24</th>\n",
       "      <td>0</td>\n",
       "      <td>0</td>\n",
       "      <td>0</td>\n",
       "      <td>0</td>\n",
       "      <td>1</td>\n",
       "      <td>0</td>\n",
       "      <td>0</td>\n",
       "      <td>0</td>\n",
       "      <td>0</td>\n",
       "    </tr>\n",
       "    <tr>\n",
       "      <th>25</th>\n",
       "      <td>0</td>\n",
       "      <td>0</td>\n",
       "      <td>0</td>\n",
       "      <td>0</td>\n",
       "      <td>1</td>\n",
       "      <td>0</td>\n",
       "      <td>0</td>\n",
       "      <td>0</td>\n",
       "      <td>0</td>\n",
       "    </tr>\n",
       "    <tr>\n",
       "      <th>26</th>\n",
       "      <td>1</td>\n",
       "      <td>0</td>\n",
       "      <td>0</td>\n",
       "      <td>0</td>\n",
       "      <td>1</td>\n",
       "      <td>0</td>\n",
       "      <td>1</td>\n",
       "      <td>0</td>\n",
       "      <td>0</td>\n",
       "    </tr>\n",
       "    <tr>\n",
       "      <th>27</th>\n",
       "      <td>0</td>\n",
       "      <td>0</td>\n",
       "      <td>0</td>\n",
       "      <td>1</td>\n",
       "      <td>0</td>\n",
       "      <td>0</td>\n",
       "      <td>0</td>\n",
       "      <td>0</td>\n",
       "      <td>0</td>\n",
       "    </tr>\n",
       "    <tr>\n",
       "      <th>28</th>\n",
       "      <td>0</td>\n",
       "      <td>0</td>\n",
       "      <td>0</td>\n",
       "      <td>0</td>\n",
       "      <td>0</td>\n",
       "      <td>1</td>\n",
       "      <td>0</td>\n",
       "      <td>0</td>\n",
       "      <td>0</td>\n",
       "    </tr>\n",
       "    <tr>\n",
       "      <th>29</th>\n",
       "      <td>0</td>\n",
       "      <td>0</td>\n",
       "      <td>0</td>\n",
       "      <td>0</td>\n",
       "      <td>1</td>\n",
       "      <td>0</td>\n",
       "      <td>0</td>\n",
       "      <td>0</td>\n",
       "      <td>0</td>\n",
       "    </tr>\n",
       "    <tr>\n",
       "      <th>...</th>\n",
       "      <td>...</td>\n",
       "      <td>...</td>\n",
       "      <td>...</td>\n",
       "      <td>...</td>\n",
       "      <td>...</td>\n",
       "      <td>...</td>\n",
       "      <td>...</td>\n",
       "      <td>...</td>\n",
       "      <td>...</td>\n",
       "    </tr>\n",
       "    <tr>\n",
       "      <th>40629</th>\n",
       "      <td>0</td>\n",
       "      <td>0</td>\n",
       "      <td>0</td>\n",
       "      <td>0</td>\n",
       "      <td>1</td>\n",
       "      <td>0</td>\n",
       "      <td>0</td>\n",
       "      <td>0</td>\n",
       "      <td>0</td>\n",
       "    </tr>\n",
       "    <tr>\n",
       "      <th>40630</th>\n",
       "      <td>0</td>\n",
       "      <td>0</td>\n",
       "      <td>0</td>\n",
       "      <td>0</td>\n",
       "      <td>0</td>\n",
       "      <td>0</td>\n",
       "      <td>0</td>\n",
       "      <td>1</td>\n",
       "      <td>0</td>\n",
       "    </tr>\n",
       "    <tr>\n",
       "      <th>40631</th>\n",
       "      <td>0</td>\n",
       "      <td>0</td>\n",
       "      <td>0</td>\n",
       "      <td>0</td>\n",
       "      <td>0</td>\n",
       "      <td>0</td>\n",
       "      <td>0</td>\n",
       "      <td>1</td>\n",
       "      <td>0</td>\n",
       "    </tr>\n",
       "    <tr>\n",
       "      <th>40632</th>\n",
       "      <td>1</td>\n",
       "      <td>0</td>\n",
       "      <td>0</td>\n",
       "      <td>0</td>\n",
       "      <td>1</td>\n",
       "      <td>1</td>\n",
       "      <td>1</td>\n",
       "      <td>0</td>\n",
       "      <td>0</td>\n",
       "    </tr>\n",
       "    <tr>\n",
       "      <th>40633</th>\n",
       "      <td>0</td>\n",
       "      <td>0</td>\n",
       "      <td>0</td>\n",
       "      <td>0</td>\n",
       "      <td>0</td>\n",
       "      <td>0</td>\n",
       "      <td>0</td>\n",
       "      <td>1</td>\n",
       "      <td>0</td>\n",
       "    </tr>\n",
       "    <tr>\n",
       "      <th>40634</th>\n",
       "      <td>0</td>\n",
       "      <td>0</td>\n",
       "      <td>0</td>\n",
       "      <td>0</td>\n",
       "      <td>0</td>\n",
       "      <td>0</td>\n",
       "      <td>0</td>\n",
       "      <td>1</td>\n",
       "      <td>0</td>\n",
       "    </tr>\n",
       "    <tr>\n",
       "      <th>40635</th>\n",
       "      <td>0</td>\n",
       "      <td>0</td>\n",
       "      <td>0</td>\n",
       "      <td>0</td>\n",
       "      <td>0</td>\n",
       "      <td>0</td>\n",
       "      <td>0</td>\n",
       "      <td>1</td>\n",
       "      <td>0</td>\n",
       "    </tr>\n",
       "    <tr>\n",
       "      <th>40636</th>\n",
       "      <td>0</td>\n",
       "      <td>0</td>\n",
       "      <td>0</td>\n",
       "      <td>0</td>\n",
       "      <td>0</td>\n",
       "      <td>0</td>\n",
       "      <td>0</td>\n",
       "      <td>1</td>\n",
       "      <td>0</td>\n",
       "    </tr>\n",
       "    <tr>\n",
       "      <th>40637</th>\n",
       "      <td>0</td>\n",
       "      <td>0</td>\n",
       "      <td>0</td>\n",
       "      <td>0</td>\n",
       "      <td>0</td>\n",
       "      <td>0</td>\n",
       "      <td>0</td>\n",
       "      <td>1</td>\n",
       "      <td>0</td>\n",
       "    </tr>\n",
       "    <tr>\n",
       "      <th>40638</th>\n",
       "      <td>1</td>\n",
       "      <td>1</td>\n",
       "      <td>0</td>\n",
       "      <td>0</td>\n",
       "      <td>1</td>\n",
       "      <td>1</td>\n",
       "      <td>1</td>\n",
       "      <td>0</td>\n",
       "      <td>0</td>\n",
       "    </tr>\n",
       "    <tr>\n",
       "      <th>40639</th>\n",
       "      <td>0</td>\n",
       "      <td>1</td>\n",
       "      <td>0</td>\n",
       "      <td>0</td>\n",
       "      <td>1</td>\n",
       "      <td>0</td>\n",
       "      <td>0</td>\n",
       "      <td>0</td>\n",
       "      <td>0</td>\n",
       "    </tr>\n",
       "    <tr>\n",
       "      <th>40640</th>\n",
       "      <td>0</td>\n",
       "      <td>0</td>\n",
       "      <td>0</td>\n",
       "      <td>0</td>\n",
       "      <td>0</td>\n",
       "      <td>0</td>\n",
       "      <td>0</td>\n",
       "      <td>1</td>\n",
       "      <td>0</td>\n",
       "    </tr>\n",
       "    <tr>\n",
       "      <th>40641</th>\n",
       "      <td>0</td>\n",
       "      <td>0</td>\n",
       "      <td>0</td>\n",
       "      <td>0</td>\n",
       "      <td>0</td>\n",
       "      <td>0</td>\n",
       "      <td>0</td>\n",
       "      <td>1</td>\n",
       "      <td>0</td>\n",
       "    </tr>\n",
       "    <tr>\n",
       "      <th>40642</th>\n",
       "      <td>0</td>\n",
       "      <td>0</td>\n",
       "      <td>0</td>\n",
       "      <td>0</td>\n",
       "      <td>1</td>\n",
       "      <td>0</td>\n",
       "      <td>0</td>\n",
       "      <td>0</td>\n",
       "      <td>0</td>\n",
       "    </tr>\n",
       "    <tr>\n",
       "      <th>40643</th>\n",
       "      <td>0</td>\n",
       "      <td>0</td>\n",
       "      <td>0</td>\n",
       "      <td>0</td>\n",
       "      <td>1</td>\n",
       "      <td>0</td>\n",
       "      <td>0</td>\n",
       "      <td>0</td>\n",
       "      <td>0</td>\n",
       "    </tr>\n",
       "    <tr>\n",
       "      <th>40644</th>\n",
       "      <td>0</td>\n",
       "      <td>0</td>\n",
       "      <td>0</td>\n",
       "      <td>0</td>\n",
       "      <td>0</td>\n",
       "      <td>1</td>\n",
       "      <td>0</td>\n",
       "      <td>0</td>\n",
       "      <td>1</td>\n",
       "    </tr>\n",
       "    <tr>\n",
       "      <th>40645</th>\n",
       "      <td>0</td>\n",
       "      <td>0</td>\n",
       "      <td>0</td>\n",
       "      <td>0</td>\n",
       "      <td>0</td>\n",
       "      <td>0</td>\n",
       "      <td>0</td>\n",
       "      <td>0</td>\n",
       "      <td>1</td>\n",
       "    </tr>\n",
       "    <tr>\n",
       "      <th>40646</th>\n",
       "      <td>0</td>\n",
       "      <td>0</td>\n",
       "      <td>0</td>\n",
       "      <td>0</td>\n",
       "      <td>0</td>\n",
       "      <td>0</td>\n",
       "      <td>0</td>\n",
       "      <td>1</td>\n",
       "      <td>0</td>\n",
       "    </tr>\n",
       "    <tr>\n",
       "      <th>40647</th>\n",
       "      <td>0</td>\n",
       "      <td>0</td>\n",
       "      <td>0</td>\n",
       "      <td>0</td>\n",
       "      <td>0</td>\n",
       "      <td>0</td>\n",
       "      <td>0</td>\n",
       "      <td>1</td>\n",
       "      <td>0</td>\n",
       "    </tr>\n",
       "    <tr>\n",
       "      <th>40648</th>\n",
       "      <td>0</td>\n",
       "      <td>0</td>\n",
       "      <td>0</td>\n",
       "      <td>0</td>\n",
       "      <td>0</td>\n",
       "      <td>0</td>\n",
       "      <td>0</td>\n",
       "      <td>1</td>\n",
       "      <td>0</td>\n",
       "    </tr>\n",
       "    <tr>\n",
       "      <th>40649</th>\n",
       "      <td>0</td>\n",
       "      <td>0</td>\n",
       "      <td>0</td>\n",
       "      <td>0</td>\n",
       "      <td>0</td>\n",
       "      <td>0</td>\n",
       "      <td>0</td>\n",
       "      <td>0</td>\n",
       "      <td>1</td>\n",
       "    </tr>\n",
       "    <tr>\n",
       "      <th>40650</th>\n",
       "      <td>0</td>\n",
       "      <td>0</td>\n",
       "      <td>0</td>\n",
       "      <td>0</td>\n",
       "      <td>0</td>\n",
       "      <td>0</td>\n",
       "      <td>0</td>\n",
       "      <td>1</td>\n",
       "      <td>0</td>\n",
       "    </tr>\n",
       "    <tr>\n",
       "      <th>40651</th>\n",
       "      <td>0</td>\n",
       "      <td>0</td>\n",
       "      <td>0</td>\n",
       "      <td>0</td>\n",
       "      <td>0</td>\n",
       "      <td>0</td>\n",
       "      <td>0</td>\n",
       "      <td>1</td>\n",
       "      <td>0</td>\n",
       "    </tr>\n",
       "    <tr>\n",
       "      <th>40652</th>\n",
       "      <td>0</td>\n",
       "      <td>0</td>\n",
       "      <td>0</td>\n",
       "      <td>0</td>\n",
       "      <td>0</td>\n",
       "      <td>0</td>\n",
       "      <td>0</td>\n",
       "      <td>1</td>\n",
       "      <td>0</td>\n",
       "    </tr>\n",
       "    <tr>\n",
       "      <th>40653</th>\n",
       "      <td>0</td>\n",
       "      <td>0</td>\n",
       "      <td>0</td>\n",
       "      <td>0</td>\n",
       "      <td>0</td>\n",
       "      <td>0</td>\n",
       "      <td>0</td>\n",
       "      <td>1</td>\n",
       "      <td>0</td>\n",
       "    </tr>\n",
       "    <tr>\n",
       "      <th>40654</th>\n",
       "      <td>0</td>\n",
       "      <td>0</td>\n",
       "      <td>0</td>\n",
       "      <td>0</td>\n",
       "      <td>0</td>\n",
       "      <td>0</td>\n",
       "      <td>0</td>\n",
       "      <td>1</td>\n",
       "      <td>0</td>\n",
       "    </tr>\n",
       "    <tr>\n",
       "      <th>40655</th>\n",
       "      <td>0</td>\n",
       "      <td>0</td>\n",
       "      <td>0</td>\n",
       "      <td>0</td>\n",
       "      <td>0</td>\n",
       "      <td>0</td>\n",
       "      <td>0</td>\n",
       "      <td>0</td>\n",
       "      <td>1</td>\n",
       "    </tr>\n",
       "    <tr>\n",
       "      <th>40656</th>\n",
       "      <td>0</td>\n",
       "      <td>0</td>\n",
       "      <td>0</td>\n",
       "      <td>0</td>\n",
       "      <td>0</td>\n",
       "      <td>0</td>\n",
       "      <td>0</td>\n",
       "      <td>0</td>\n",
       "      <td>1</td>\n",
       "    </tr>\n",
       "    <tr>\n",
       "      <th>40657</th>\n",
       "      <td>0</td>\n",
       "      <td>0</td>\n",
       "      <td>0</td>\n",
       "      <td>0</td>\n",
       "      <td>0</td>\n",
       "      <td>0</td>\n",
       "      <td>0</td>\n",
       "      <td>1</td>\n",
       "      <td>0</td>\n",
       "    </tr>\n",
       "    <tr>\n",
       "      <th>40658</th>\n",
       "      <td>0</td>\n",
       "      <td>0</td>\n",
       "      <td>0</td>\n",
       "      <td>0</td>\n",
       "      <td>0</td>\n",
       "      <td>0</td>\n",
       "      <td>0</td>\n",
       "      <td>1</td>\n",
       "      <td>0</td>\n",
       "    </tr>\n",
       "  </tbody>\n",
       "</table>\n",
       "<p>40659 rows × 9 columns</p>\n",
       "</div>"
      ],
      "text/plain": [
       "       food  recharge  support  reminders  travel  nearby  movies  casual  \\\n",
       "0         0         0        0          1       0       0       0       0   \n",
       "1         1         0        0          0       0       0       0       0   \n",
       "2         0         0        1          0       0       0       0       0   \n",
       "3         0         0        0          0       1       0       0       0   \n",
       "4         0         0        0          0       1       0       0       0   \n",
       "5         0         0        0          0       1       0       0       0   \n",
       "6         0         0        0          0       1       0       0       0   \n",
       "7         0         0        0          0       1       0       1       0   \n",
       "8         0         0        0          0       1       0       0       0   \n",
       "9         0         0        0          1       0       0       0       0   \n",
       "10        0         0        0          0       0       1       0       0   \n",
       "11        1         0        1          0       1       0       0       0   \n",
       "12        0         0        0          0       1       0       0       0   \n",
       "13        0         0        0          0       1       0       0       0   \n",
       "14        0         0        0          0       1       0       0       0   \n",
       "15        0         0        0          0       1       0       0       0   \n",
       "16        0         0        0          0       1       0       0       0   \n",
       "17        0         0        0          0       1       0       0       0   \n",
       "18        0         0        0          1       0       0       0       0   \n",
       "19        0         0        0          1       0       0       0       0   \n",
       "20        0         0        0          0       1       0       0       0   \n",
       "21        0         0        0          0       1       0       0       0   \n",
       "22        0         0        0          1       0       0       0       0   \n",
       "23        0         0        0          1       0       0       0       0   \n",
       "24        0         0        0          0       1       0       0       0   \n",
       "25        0         0        0          0       1       0       0       0   \n",
       "26        1         0        0          0       1       0       1       0   \n",
       "27        0         0        0          1       0       0       0       0   \n",
       "28        0         0        0          0       0       1       0       0   \n",
       "29        0         0        0          0       1       0       0       0   \n",
       "...     ...       ...      ...        ...     ...     ...     ...     ...   \n",
       "40629     0         0        0          0       1       0       0       0   \n",
       "40630     0         0        0          0       0       0       0       1   \n",
       "40631     0         0        0          0       0       0       0       1   \n",
       "40632     1         0        0          0       1       1       1       0   \n",
       "40633     0         0        0          0       0       0       0       1   \n",
       "40634     0         0        0          0       0       0       0       1   \n",
       "40635     0         0        0          0       0       0       0       1   \n",
       "40636     0         0        0          0       0       0       0       1   \n",
       "40637     0         0        0          0       0       0       0       1   \n",
       "40638     1         1        0          0       1       1       1       0   \n",
       "40639     0         1        0          0       1       0       0       0   \n",
       "40640     0         0        0          0       0       0       0       1   \n",
       "40641     0         0        0          0       0       0       0       1   \n",
       "40642     0         0        0          0       1       0       0       0   \n",
       "40643     0         0        0          0       1       0       0       0   \n",
       "40644     0         0        0          0       0       1       0       0   \n",
       "40645     0         0        0          0       0       0       0       0   \n",
       "40646     0         0        0          0       0       0       0       1   \n",
       "40647     0         0        0          0       0       0       0       1   \n",
       "40648     0         0        0          0       0       0       0       1   \n",
       "40649     0         0        0          0       0       0       0       0   \n",
       "40650     0         0        0          0       0       0       0       1   \n",
       "40651     0         0        0          0       0       0       0       1   \n",
       "40652     0         0        0          0       0       0       0       1   \n",
       "40653     0         0        0          0       0       0       0       1   \n",
       "40654     0         0        0          0       0       0       0       1   \n",
       "40655     0         0        0          0       0       0       0       0   \n",
       "40656     0         0        0          0       0       0       0       0   \n",
       "40657     0         0        0          0       0       0       0       1   \n",
       "40658     0         0        0          0       0       0       0       1   \n",
       "\n",
       "       other  \n",
       "0          0  \n",
       "1          0  \n",
       "2          0  \n",
       "3          0  \n",
       "4          0  \n",
       "5          0  \n",
       "6          0  \n",
       "7          0  \n",
       "8          0  \n",
       "9          0  \n",
       "10         0  \n",
       "11         0  \n",
       "12         0  \n",
       "13         0  \n",
       "14         0  \n",
       "15         0  \n",
       "16         0  \n",
       "17         0  \n",
       "18         0  \n",
       "19         0  \n",
       "20         0  \n",
       "21         0  \n",
       "22         0  \n",
       "23         0  \n",
       "24         0  \n",
       "25         0  \n",
       "26         0  \n",
       "27         0  \n",
       "28         0  \n",
       "29         0  \n",
       "...      ...  \n",
       "40629      0  \n",
       "40630      0  \n",
       "40631      0  \n",
       "40632      0  \n",
       "40633      0  \n",
       "40634      0  \n",
       "40635      0  \n",
       "40636      0  \n",
       "40637      0  \n",
       "40638      0  \n",
       "40639      0  \n",
       "40640      0  \n",
       "40641      0  \n",
       "40642      0  \n",
       "40643      0  \n",
       "40644      1  \n",
       "40645      1  \n",
       "40646      0  \n",
       "40647      0  \n",
       "40648      0  \n",
       "40649      1  \n",
       "40650      0  \n",
       "40651      0  \n",
       "40652      0  \n",
       "40653      0  \n",
       "40654      0  \n",
       "40655      1  \n",
       "40656      1  \n",
       "40657      0  \n",
       "40658      0  \n",
       "\n",
       "[40659 rows x 9 columns]"
      ]
     },
     "execution_count": 15,
     "metadata": {},
     "output_type": "execute_result"
    }
   ],
   "source": [
    "y_train"
   ]
  },
  {
   "cell_type": "markdown",
   "metadata": {
    "deletable": true,
    "editable": true
   },
   "source": [
    "## Reversing One-Hot"
   ]
  },
  {
   "cell_type": "code",
   "execution_count": 16,
   "metadata": {
    "collapsed": false,
    "deletable": true,
    "editable": true
   },
   "outputs": [
    {
     "data": {
      "text/html": [
       "<div>\n",
       "<style>\n",
       "    .dataframe thead tr:only-child th {\n",
       "        text-align: right;\n",
       "    }\n",
       "\n",
       "    .dataframe thead th {\n",
       "        text-align: left;\n",
       "    }\n",
       "\n",
       "    .dataframe tbody tr th {\n",
       "        vertical-align: top;\n",
       "    }\n",
       "</style>\n",
       "<table border=\"1\" class=\"dataframe\">\n",
       "  <thead>\n",
       "    <tr style=\"text-align: right;\">\n",
       "      <th></th>\n",
       "      <th>food</th>\n",
       "      <th>recharge</th>\n",
       "      <th>support</th>\n",
       "      <th>reminders</th>\n",
       "      <th>travel</th>\n",
       "      <th>nearby</th>\n",
       "      <th>movies</th>\n",
       "      <th>casual</th>\n",
       "      <th>other</th>\n",
       "    </tr>\n",
       "  </thead>\n",
       "  <tbody>\n",
       "    <tr>\n",
       "      <th>0</th>\n",
       "      <td>0</td>\n",
       "      <td>0</td>\n",
       "      <td>0</td>\n",
       "      <td>0</td>\n",
       "      <td>0</td>\n",
       "      <td>1</td>\n",
       "      <td>0</td>\n",
       "      <td>0</td>\n",
       "      <td>0</td>\n",
       "    </tr>\n",
       "    <tr>\n",
       "      <th>1</th>\n",
       "      <td>0</td>\n",
       "      <td>0</td>\n",
       "      <td>0</td>\n",
       "      <td>0</td>\n",
       "      <td>1</td>\n",
       "      <td>0</td>\n",
       "      <td>0</td>\n",
       "      <td>0</td>\n",
       "      <td>0</td>\n",
       "    </tr>\n",
       "    <tr>\n",
       "      <th>2</th>\n",
       "      <td>0</td>\n",
       "      <td>0</td>\n",
       "      <td>0</td>\n",
       "      <td>0</td>\n",
       "      <td>0</td>\n",
       "      <td>0</td>\n",
       "      <td>0</td>\n",
       "      <td>0</td>\n",
       "      <td>1</td>\n",
       "    </tr>\n",
       "    <tr>\n",
       "      <th>3</th>\n",
       "      <td>1</td>\n",
       "      <td>0</td>\n",
       "      <td>0</td>\n",
       "      <td>0</td>\n",
       "      <td>0</td>\n",
       "      <td>0</td>\n",
       "      <td>0</td>\n",
       "      <td>0</td>\n",
       "      <td>0</td>\n",
       "    </tr>\n",
       "    <tr>\n",
       "      <th>4</th>\n",
       "      <td>0</td>\n",
       "      <td>0</td>\n",
       "      <td>0</td>\n",
       "      <td>0</td>\n",
       "      <td>1</td>\n",
       "      <td>0</td>\n",
       "      <td>0</td>\n",
       "      <td>0</td>\n",
       "      <td>0</td>\n",
       "    </tr>\n",
       "  </tbody>\n",
       "</table>\n",
       "</div>"
      ],
      "text/plain": [
       "   food  recharge  support  reminders  travel  nearby  movies  casual  other\n",
       "0     0         0        0          0       0       1       0       0      0\n",
       "1     0         0        0          0       1       0       0       0      0\n",
       "2     0         0        0          0       0       0       0       0      1\n",
       "3     1         0        0          0       0       0       0       0      0\n",
       "4     0         0        0          0       1       0       0       0      0"
      ]
     },
     "execution_count": 16,
     "metadata": {},
     "output_type": "execute_result"
    }
   ],
   "source": [
    "y_test.head()"
   ]
  },
  {
   "cell_type": "markdown",
   "metadata": {
    "deletable": true,
    "editable": true
   },
   "source": [
    "## Reversing One-Hot"
   ]
  },
  {
   "cell_type": "code",
   "execution_count": 17,
   "metadata": {
    "collapsed": true,
    "deletable": true,
    "editable": true
   },
   "outputs": [],
   "source": [
    "y_train = y_train.idxmax(axis=1)"
   ]
  },
  {
   "cell_type": "code",
   "execution_count": 18,
   "metadata": {
    "collapsed": true,
    "deletable": true,
    "editable": true
   },
   "outputs": [],
   "source": [
    "y_test = y_test.idxmax(axis=1)"
   ]
  },
  {
   "cell_type": "code",
   "execution_count": 19,
   "metadata": {
    "collapsed": false,
    "deletable": true,
    "editable": true
   },
   "outputs": [
    {
     "data": {
      "text/plain": [
       "0    reminders\n",
       "1         food\n",
       "2      support\n",
       "3       travel\n",
       "4       travel\n",
       "dtype: object"
      ]
     },
     "execution_count": 19,
     "metadata": {},
     "output_type": "execute_result"
    }
   ],
   "source": [
    "y_train.head()"
   ]
  },
  {
   "cell_type": "code",
   "execution_count": 20,
   "metadata": {
    "collapsed": false,
    "deletable": true,
    "editable": true
   },
   "outputs": [
    {
     "data": {
      "text/plain": [
       "array([3, 8, 4, ..., 0, 4, 0])"
      ]
     },
     "execution_count": 20,
     "metadata": {},
     "output_type": "execute_result"
    }
   ],
   "source": [
    "from sklearn.preprocessing import LabelEncoder\n",
    "lbl = LabelEncoder()\n",
    "lbl.fit_transform(y_train)\n",
    "lbl.transform(y_test)"
   ]
  },
  {
   "cell_type": "markdown",
   "metadata": {
    "deletable": true,
    "editable": true
   },
   "source": [
    "## Tokenization\n",
    "\n",
    "Tokenization breaks unstructured data, text, into chunks of\n",
    "information which can be counted as discrete elements. \n",
    "\n",
    "These counts of token\n",
    "occurrences in a document can be used directly as a vector representing that document.\n",
    "\n",
    "\n",
    "This immediately turns an unstructured string (text document) into a structured,\n",
    "numerical data structure suitable for machine learning.\n",
    "\n",
    "* Tokenization segments a document into its atomic elements (tokens)\n",
    "* Typically, our tokens are the words\n",
    "    - As an example where characters will be more appropriate as tokens, consider Language Detection\n",
    "\n",
    "## Tokenization"
   ]
  },
  {
   "cell_type": "code",
   "execution_count": 21,
   "metadata": {
    "collapsed": true,
    "deletable": true,
    "editable": true
   },
   "outputs": [],
   "source": [
    "from nltk.tokenize import RegexpTokenizer\n",
    "tokenizer = RegexpTokenizer(r'\\w+')"
   ]
  },
  {
   "cell_type": "markdown",
   "metadata": {
    "deletable": true,
    "editable": true
   },
   "source": [
    "* The above code will match any word characters until it reaches a non-word character, like a space\n",
    "* This can cause problems for words like *don’t* which will be read as two tokens - *don* and *t*.\n",
    "* A better tokeniser is TreeBankWordTokenizer which would break words like *don't* into *do* and *n't* \n",
    "* NLTK provides a number of pre-constructed tokenizers (like nltk.tokenize.simple)\n",
    "\n",
    "## Tokenization"
   ]
  },
  {
   "cell_type": "code",
   "execution_count": 22,
   "metadata": {
    "collapsed": true,
    "deletable": true,
    "editable": true
   },
   "outputs": [],
   "source": [
    "from nltk.tokenize import TreebankWordTokenizer\n",
    "tokenizer = TreebankWordTokenizer()"
   ]
  },
  {
   "cell_type": "code",
   "execution_count": 23,
   "metadata": {
    "collapsed": false,
    "deletable": true,
    "editable": true
   },
   "outputs": [
    {
     "data": {
      "text/plain": [
       "0                                       [7am, everyday]\n",
       "1                                     [chocolate, cake]\n",
       "2     [closed, mortice, and, tenon, joint, door, dim...\n",
       "3                               [train, eppo, kelambum]\n",
       "4     [yesterday, i, have, cancelled, the, flight, t...\n",
       "5                       [chamge, it, to, 12pm, to, 9pm]\n",
       "6                      [i, want, too, going, rajasthan]\n",
       "7                                                [room]\n",
       "8       [can, you, please, arrange, flight, tickets, ?]\n",
       "9                            [what, kind, of, reminder]\n",
       "10                              [jamshedpur, jharkhand]\n",
       "11                                  [noidaa, secot, 44]\n",
       "12                           [no, flight, of, spicejet]\n",
       "13                                           [or, uber]\n",
       "14                                             [3.3.17]\n",
       "15                                [why, fare, so, high]\n",
       "16    [i, have, to, know, about, train, running, fro...\n",
       "17    [pls, send, current, status, of, my, train, ti...\n",
       "18               [yes, i, 've, got, the, reminder, now]\n",
       "19               [please, wake, me, up, today, at, 6am]\n",
       "Name: message, dtype: object"
      ]
     },
     "execution_count": 23,
     "metadata": {},
     "output_type": "execute_result"
    }
   ],
   "source": [
    "X_train = X_train.apply(lambda row: row.lower())\n",
    "X_train = X_train.apply(lambda row: tokenizer.tokenize(row))\n",
    "X_train.head(20)"
   ]
  },
  {
   "cell_type": "markdown",
   "metadata": {
    "deletable": true,
    "editable": true
   },
   "source": [
    "## Stop-word Removal"
   ]
  },
  {
   "cell_type": "markdown",
   "metadata": {
    "deletable": true,
    "editable": true
   },
   "source": [
    "* Certain parts of English speech, like conjunctions (“for”, “or”) or the word “the” are meaningless to a topic model. These terms are called stop words and need to be removed from our token list\n",
    "* The definition of a stop word is flexible and depends on the kind of documents being modeled. For example\n",
    "    - if we’re topic modeling a collection of music reviews, then terms like *The Who* will have trouble being surfaced because *the* is a common stop word and is usually removed\n",
    "* One should always carefully consider if any of the likely topics may have common stop-words in them and modify the list of stop-words accordingly\n",
    "* Let's look at the stopwords from the *stop_words* package, a [relatively conservative list](https://github.com/Alir3z4/stop-words/blob/master/english.txt)."
   ]
  },
  {
   "cell_type": "code",
   "execution_count": 24,
   "metadata": {
    "collapsed": false,
    "deletable": true,
    "editable": true
   },
   "outputs": [
    {
     "name": "stdout",
     "output_type": "stream",
     "text": [
      "[u'a', u'about', u'above', u'after', u'again', u'against', u'all', u'am', u'an', u'and', u'any', u'are', u\"aren't\", u'as', u'at', u'be', u'because', u'been', u'before', u'being', u'below', u'between', u'both', u'but', u'by', u\"can't\", u'cannot', u'could', u\"couldn't\", u'did', u\"didn't\", u'do', u'does', u\"doesn't\", u'doing', u\"don't\", u'down', u'during', u'each', u'few', u'for', u'from', u'further', u'had', u\"hadn't\", u'has', u\"hasn't\", u'have', u\"haven't\", u'having', u'he', u\"he'd\", u\"he'll\", u\"he's\", u'her', u'here', u\"here's\", u'hers', u'herself', u'him', u'himself', u'his', u'how', u\"how's\", u'i', u\"i'd\", u\"i'll\", u\"i'm\", u\"i've\", u'if', u'in', u'into', u'is', u\"isn't\", u'it', u\"it's\", u'its', u'itself', u\"let's\", u'me', u'more', u'most', u\"mustn't\", u'my', u'myself', u'no', u'nor', u'not', u'of', u'off', u'on', u'once', u'only', u'or', u'other', u'ought', u'our', u'ours', u'ourselves', u'out', u'over', u'own', u'same', u\"shan't\", u'she', u\"she'd\", u\"she'll\", u\"she's\", u'should', u\"shouldn't\", u'so', u'some', u'such', u'than', u'that', u\"that's\", u'the', u'their', u'theirs', u'them', u'themselves', u'then', u'there', u\"there's\", u'these', u'they', u\"they'd\", u\"they'll\", u\"they're\", u\"they've\", u'this', u'those', u'through', u'to', u'too', u'under', u'until', u'up', u'very', u'was', u\"wasn't\", u'we', u\"we'd\", u\"we'll\", u\"we're\", u\"we've\", u'were', u\"weren't\", u'what', u\"what's\", u'when', u\"when's\", u'where', u\"where's\", u'which', u'while', u'who', u\"who's\", u'whom', u'why', u\"why's\", u'with', u\"won't\", u'would', u\"wouldn't\", u'you', u\"you'd\", u\"you'll\", u\"you're\", u\"you've\", u'your', u'yours', u'yourself', u'yourselves']\n"
     ]
    }
   ],
   "source": [
    "from stop_words import get_stop_words\n",
    "\n",
    "# create English stop words list\n",
    "en_stop = get_stop_words('en')\n",
    "print(en_stop)"
   ]
  },
  {
   "cell_type": "markdown",
   "metadata": {
    "deletable": true,
    "editable": true
   },
   "source": [
    "## Impact of stop-word removal"
   ]
  },
  {
   "cell_type": "code",
   "execution_count": 25,
   "metadata": {
    "collapsed": false,
    "deletable": true,
    "editable": true
   },
   "outputs": [
    {
     "name": "stderr",
     "output_type": "stream",
     "text": [
      "/home/jay/miniconda3/envs/py27/lib/python2.7/site-packages/ipykernel_launcher.py:1: UnicodeWarning: Unicode equal comparison failed to convert both arguments to Unicode - interpreting them as being unequal\n",
      "  \"\"\"Entry point for launching an IPython kernel.\n"
     ]
    },
    {
     "data": {
      "text/plain": [
       "0                                      [7am, everyday]\n",
       "1                                    [chocolate, cake]\n",
       "2    [closed, mortice, tenon, joint, door, dimentions]\n",
       "3                              [train, eppo, kelambum]\n",
       "4               [yesterday, cancelled, flight, ticket]\n",
       "5                                  [chamge, 12pm, 9pm]\n",
       "6                             [want, going, rajasthan]\n",
       "7                                               [room]\n",
       "8           [can, please, arrange, flight, tickets, ?]\n",
       "9                                     [kind, reminder]\n",
       "Name: message, dtype: object"
      ]
     },
     "execution_count": 25,
     "metadata": {},
     "output_type": "execute_result"
    }
   ],
   "source": [
    "X_train = X_train.apply(lambda row: [i for i in row if i not in en_stop])\n",
    "X_train.head(10)"
   ]
  },
  {
   "cell_type": "code",
   "execution_count": 26,
   "metadata": {
    "collapsed": false,
    "deletable": true,
    "editable": true
   },
   "outputs": [
    {
     "data": {
      "text/plain": [
       "(40659,)"
      ]
     },
     "execution_count": 26,
     "metadata": {},
     "output_type": "execute_result"
    }
   ],
   "source": [
    "X_train.shape"
   ]
  },
  {
   "cell_type": "markdown",
   "metadata": {
    "deletable": true,
    "editable": true
   },
   "source": [
    "## Stemming"
   ]
  },
  {
   "cell_type": "markdown",
   "metadata": {
    "deletable": true,
    "editable": true
   },
   "source": [
    "* Stemming words is another common technique to reduce topically similar words to their root. For example, \n",
    "    - *stemming*, *stemmer*, *stemmed*, all have similar meanings\n",
    "    - stemming reduces those terms to *stem*\n",
    "    - This is important for topic modeling, which would otherwise view those terms as separate entities and reduce their importance in the model\n",
    "* Stemming is flexible and some methods are more aggressive. [The Porter stemming algorithm](https://tartarus.org/martin/PorterStemmer/) is the most widely used method"
   ]
  },
  {
   "cell_type": "code",
   "execution_count": 27,
   "metadata": {
    "collapsed": false,
    "deletable": true,
    "editable": true
   },
   "outputs": [
    {
     "name": "stdout",
     "output_type": "stream",
     "text": [
      "<PorterStemmer>\n"
     ]
    }
   ],
   "source": [
    "from nltk.stem.porter import PorterStemmer\n",
    "p_stemmer = PorterStemmer()\n",
    "print(p_stemmer)"
   ]
  },
  {
   "cell_type": "markdown",
   "metadata": {
    "deletable": true,
    "editable": true
   },
   "source": [
    "## The Porter Stemmer\n",
    "\n",
    "* *p_stemmer* requires all tokens to be type str\n",
    "* p_stemmer returns the string parameter in stemmed form"
   ]
  },
  {
   "cell_type": "code",
   "execution_count": 28,
   "metadata": {
    "collapsed": true,
    "deletable": true,
    "editable": true
   },
   "outputs": [],
   "source": [
    "# X_train = X_train.apply(lambda row: [p_stemmer.stem(i) for i in row])\n",
    "# X_train.head()"
   ]
  },
  {
   "cell_type": "code",
   "execution_count": 29,
   "metadata": {
    "collapsed": false,
    "deletable": true,
    "editable": true,
    "scrolled": true
   },
   "outputs": [
    {
     "name": "stdout",
     "output_type": "stream",
     "text": [
      "['7am', 'everyday']\n",
      "[u'chocol', 'cake']\n",
      "[u'close', u'mortic', 'tenon', 'joint', 'door', u'diment']\n",
      "['train', 'eppo', 'kelambum']\n",
      "['yesterday', u'cancel', 'flight', 'ticket']\n",
      "[u'chamg', '12pm', '9pm']\n",
      "['want', u'go', 'rajasthan']\n",
      "['room']\n",
      "['can', u'pleas', u'arrang', 'flight', u'ticket', '?']\n",
      "['kind', u'remind']\n",
      "['jamshedpur', 'jharkhand']\n",
      "['noidaa', 'secot', '44']\n",
      "['flight', 'spicejet']\n",
      "['uber']\n",
      "['3.3.17']\n",
      "['fare', 'high']\n",
      "['know', 'train', u'run', 'jalgaon', 'pune']\n",
      "[u'pl', 'send', 'current', u'statu', 'train', 'ticket']\n",
      "[u'ye', \"'ve\", 'got', u'remind', 'now']\n",
      "[u'pleas', 'wake', 'today', '6am']\n",
      "['patli', 'aligarh', 'train', 'week']\n",
      "['can', 'look', 'flight', u'option', '?']\n",
      "['thrursday', u'remind', '?']\n",
      "[u'remind']\n",
      "['payment', 'made', 'ola', 'money']\n",
      "['silchar', 'guwahati']\n",
      "['five', u'peopl']\n",
      "['like', 'cancel', 'wake', 'call', 'sun', ',', '05', 'march', '05:00', '{', 'reminder_list', ':', '708936', ',', 'user_id', ':', '1982962', ',', u'task_nam', ':', 'wakeup', ',', 'offset', ':', '0', ',', u'api_nam', ':', 'exotel', '}']\n",
      "['hey', ',', 'can', 'find', 'nearest', u'medic', 'store', '?', '{', 'task', '}']\n",
      "[u'pleas', u'detail', 'train', '12630']\n",
      "['9761004710']\n",
      "[u'inform']\n",
      "['within', 'one', '&', 'half', 'hour']\n",
      "['cashback', 'train', u'book', '?']\n",
      "['need', 'u', 'contact']\n",
      "['canara', 'bank', 'atm']\n",
      "['like', 'cancel', '`wish', 'soni', u'happi', 'birthday', '!', '`', u'remind', 'tue', ',', '06', u'februari', '10:00', '{', 'reminder_list', ':', '659272', ',', 'user_id', ':', '1968352', ',', u'task_nam', ':', 'birthday', ',', 'offset', ':', '0', ',', u'api_nam', ':', 'exotel', '}']\n",
      "['i.', u'look', 'railway', u'reserv', 'ticket', 'counter']\n",
      "['train', 'no:11058']\n",
      "['march', '3rd', u'morn', '7am']\n",
      "['want', 'pay', 'phone', 'bill']\n",
      "[u'alreadi', 'just', 'now', u'recharg', 'haptik']\n",
      "['like', 'cancel', '1', u'remind']\n",
      "[u'pleas', 'book', 'train', u'ticket']\n",
      "['2', 'ac']\n",
      "[\"'s\", 'cashback']\n",
      "[u'thalasseri']\n",
      "['need', 'order', '2', 'birthday', u'cake', '.']\n",
      "['nearest', u'domino']\n",
      "['pickup', '-']\n",
      "['mini']\n",
      "['airtel', 'number']\n",
      "['cash', 'back', 'know', '?']\n",
      "['set', u'anoth', u'remind', '{', 'type', ':', u'anniversari', '}']\n",
      "['want', 'know', u'remind', 'birthday', u'everi', 'year', ',', '?', '?']\n",
      "['need', 'driver']\n",
      "[u'physiotherapi', u'avail', 'home', u'servic', 'near']\n",
      "['may', 'pay', 'punjab', 'state', u'electr', 'bill']\n",
      "[u'cheet', u'ask', 'alaram', 'mng', '3.30']\n",
      "['can', 'do.', 'find', 'shop', u'someon']\n",
      "[u'anoth', 'station']\n",
      "['near', u'histor', u'site']\n",
      "['want', 'iob', 'atm']\n",
      "['can', u'appli', u'refer', 'code', 'ride']\n",
      "[u'bar', 'near', 'tarnaka']\n",
      "[u'rate', '?']\n",
      "[u'pl', 'cancel']\n",
      "['like', 'cancel', 'drink', 'water', u'remind', u'remind', 'everyday', u'everi', '1', 'hour', '10:00', '8:00', 'pm.', '{', 'reminder_list', ':', '610916', ',', 'user_id', ':', '1955133', ',', u'task_nam', ':', u'drink_wat', ',', 'offset', ':', '0', ',', u'api_nam', ':', 'exotel', '}']\n",
      "['need', 'know', u'airlin', 'cheapest', 'kolkata', 'jaipur']\n",
      "['can', 'stop', u'remind', 'set', u'drink', 'water']\n",
      "['there12591', 'gop', u'express', 'train', '5march', '3pm']\n",
      "['7/', '3/', '17']\n",
      "['plz', 'send', 'discount', 'coupon', u'electr', 'bill']\n",
      "['near', u'nimhan', u'hospit']\n",
      "['offer', 'valid', 'telangana', 'state', 'r']\n",
      "['bhwn', u'eye', 'specialist', u'hospit']\n",
      "['will', 'give', 'feedback', u'remind', u'perform']\n",
      "['citi', 'bank', 'atm', 'need']\n",
      "['udaipur', 'train', u'schedul', 'jaipur']\n",
      "['far', u'filmciti', 'gate', 'no.', '7', 'goregaav', 'local', 'railway', 'station']\n",
      "[u'cab', u'avail', '?', '?', '?', '?']\n",
      "['cashback', '?', '?']\n",
      "['tell', u'nearbi', u'place', 'visit', 'birthday', u'celebr']\n",
      "['hi', 'can', u'pleas', 'turn', u'remind', \"n't\", 'need', u'anymor', 'anyway']\n",
      "['hv', 'child', 'wid']\n",
      "['remind', u'appoint']\n",
      "[u'reschedul']\n",
      "[\"n't\", 'need', 'train..']\n",
      "['like', 'cancel', 'drink', 'water', u'remind', u'remind', 'sat', ',', '04', 'march', u'everi', '1', 'hour', '9:30', '6:30', 'pm.', '{', 'reminder_list', ':', '658338-658339-658340-658341-658342-658343', ',', 'user_id', ':', '1822150', ',', u'task_nam', ':', u'drink_wat', ',', 'offset', ':', '0', ',', u'api_nam', ':', 'exotel', '}']\n",
      "['like', 'cancel', 'wake', 'call', 'everyday', '06:00', '{', 'reminder_list', ':', '682755', ',', 'user_id', ':', '1977090', ',', u'task_nam', ':', 'wakeup', ',', 'offset', ':', '0', ',', u'api_nam', ':', 'exotel', '}']\n",
      "['evryday']\n",
      "['tirupathi', 'hyderabad', '8th', 'march', '..2', u'adult', '1', 'infant', '1', 'month', 'age']\n",
      "['rosewood', u'restaur', u'dang', 'chowk']\n",
      "['give', 'last', 'ticket', 'pnr']\n",
      "['today', '7pm']\n",
      "['check', u'anoth', 'date']\n",
      "['stop', 'water', u'remind']\n",
      "['want', 'book', 'cab']\n",
      "['remind', u'appli', 'sbi', 'po', 'exam', 'monday', 'tomorrow', '6', 'pm']\n",
      "['like', 'cancel', '`wish', 'mounika', u'happi', 'birthday', '!', '`', u'remind', 'sun', ',', '20', 'august', '12:00', '{', 'reminder_list', ':', '667515', ',', 'user_id', ':', '1971980', ',', u'task_nam', ':', 'birthday', ',', 'offset', ':', '0', ',', u'api_nam', ':', 'exotel', '}']\n",
      "['bagalkot', 'mumbai']\n",
      "['thr', 'discount', 'coupan', 'raliway', u'book', '?', '?']\n",
      "['like', 'cancel', '`wish', 'sayali', u'happi', 'birthday', '!', '`', u'remind', 'sat', ',', '04', 'march', '07:55', '{', 'reminder_list', ':', '624916', ',', 'user_id', ':', '1861336', ',', u'task_nam', ':', 'birthday', ',', 'offset', ':', '0', ',', u'api_nam', ':', 'exotel', '}']\n",
      "['hey', 'u', u'reffer', 'code', 'ola', 'cab']\n",
      "['commando', 'today', u'show']\n",
      "[u'nand', 'pune']\n",
      "[u'offer', 'cash', 'back', u'recharg']\n",
      "['like', 'cancel', 'wake', 'call', 'wed', ',', '01', 'march', '05:25', '{', 'reminder_list', ':', '664991', ',', 'user_id', ':', '1140979', ',', u'task_nam', ':', 'wakeup', ',', 'offset', ':', '0', ',', u'api_nam', ':', 'exotel', '}']\n",
      "['chennai', 'zurich', '...', '.all', 'around', 'europe..paris..amsterdam', '...', 'honeymoon', u'coupl', '...', u'prefer', 'march', 'end', 'april', '17..15', u'day', '...']\n",
      "['cancel', u'remaind', 'drink', 'water']\n",
      "['canu', u'remind', 'drive', 'water', '?']\n",
      "['will', u'charg', 'trip', 'manali', '2', 'person', '?']\n",
      "[u'mujh', 'tatkal', u'boke', 'krani', 'h']\n",
      "[u'pondicherri']\n",
      "[\"'s\", u'estim', 'price']\n",
      "['4541511755']\n",
      "['can', u'pleas', 'check', u'recharg', 'done']\n",
      "['list', 'veg', 'hotel']\n",
      "['remind', '3.4.17', '9pm']\n",
      "['ok', u'pleas', 'book', 'cab']\n",
      "[\"'m\", u'ask', 'drama']\n",
      "['need', 'buy1', 'get', '1']\n",
      "['hi', 'take', 'away']\n",
      "['train', 'seat', u'book']\n",
      "['even', u'time', u'buse', 'available.', '?']\n",
      "['16', '17', \"'s\", 'flexible.', 'need', 'better', u'price']\n",
      "[u'search', '2', 'bhk', 'flat', 'gurgaon']\n",
      "[u'pleas', 'check', 'vit', u'institut', u'certifi', 'last', 'will', 'give', u'certif', u'student']\n",
      "[u'bu', u'timet', 'pune', 'chopda']\n",
      "['school', 'thane']\n",
      "['need', 'food', u'nearbi']\n",
      "['remind', 'meet', 'pratap', 'saturday']\n",
      "['think', 'kolkata', 'flight', 'bhutan']\n",
      "['valid', 'share']\n",
      "['hyderabad', 'airport', 'banjara', 'hill', 'road', '12']\n",
      "['kirik', u'parti']\n",
      "['want', u'servic']\n",
      "[u'remain', u'remaind', 'show', 'plese']\n",
      "['samolkot', 'vizag']\n",
      "[u'danc', 'bar']\n",
      "['know', 'bill', 'came']\n",
      "['dnt', u'messag', u'reserv', 'even', 'mail']\n",
      "['can', u'pl', 'help', 'chose', 'good', u'restaur', 'lunch', 'tomo']\n",
      "['allahabad']\n",
      "['like', 'know', u'nearbi', 'place', 'can', u'deliv', 'cake', u'order', u'address', '?', '?']\n",
      "['remind', u'everi', u'2hr', u'pl']\n",
      "['done.', 'bill', 'paid.', 'thanks..']\n",
      "['santosh', 'dhaba', u'veggi']\n",
      "['5758', 'train', 'kakinada', 'thirupathi', 'pa', u'passeng']\n",
      "['like', 'cancel', 'wake', 'call', 'wed', ',', '01', 'march', '04:30', 'pm', '{', 'reminder_list', ':', '604103', ',', 'user_id', ':', '1413102', ',', u'task_nam', ':', 'wakeup', ',', 'offset', ':', '0', ',', u'api_nam', ':', 'exotel', '}']\n",
      "['remind', u'print', u'report', '10.30']\n",
      "['also', 'need', u'remind', 'buy', u'medicin']\n",
      "['minimum', 'cab', u'valu', 'kitni', 'honi', u'chahiy']\n",
      "['wan', 'na', 'cancel', u'anniversari', u'remind']\n",
      "['north', 'indian']\n",
      "['17255']\n",
      "[u'axi', 'hdfc']\n",
      "[u'canc', 'tommorrow', 'wake']\n",
      "['ok', 'mam', 'cheak', '37', 'cashback']\n",
      "[',', 'want', 'book', u'remind', '8.38', 'tomorrow']\n",
      "[u'pleas', 'send', 'narayana', 'hrudalaya', u'hospit', 'phone', 'number', 'opd']\n",
      "['set', 'one', u'remind']\n",
      "['just', u'want', 'use', 'pool', 'gym']\n",
      "['metro', 'inox']\n",
      "[u'departur', u'citi', ':', 'ndls/new', 'delhi', u'destin', u'citi', ':', 'lar/lalitpur', 'date', 'travel', ':', 'march', '4', ',', '2017', u'class', ':', 'sl', '-', 'sleeper', 'number', u'adult', ':', '1']\n",
      "['2', 'hr']\n",
      "['tiffin', u'servic', u'avail']\n",
      "['110']\n",
      "[\"n't\", 'need', 'uber.', '!', '!']\n",
      "['like', 'cancel', 'drink', 'water', u'remind', u'remind', 'everyday', u'everi', '1', 'hour', '10:00', '8:00', 'pm.', '{', 'reminder_list', ':', '684427', ',', 'user_id', ':', '1977653', ',', u'task_nam', ':', u'drink_wat', ',', 'offset', ':', '0', ',', u'api_nam', ':', 'exotel', '}']\n",
      "[\"'s\"]\n",
      "[\"n't\", 'remind']\n",
      "[u'mistak', u'remind']\n",
      "['like', 'cancel', 'drink', 'water', u'remind', u'remind', 'sun', ',', '05', 'march', u'everi', '4', u'hour', '10:00', '8:00', 'pm.', '{', 'reminder_list', ':', '710967-710968-710969', ',', 'user_id', ':', '1982381', ',', u'task_nam', ':', u'drink_wat', ',', 'offset', ':', '0', ',', u'api_nam', ':', 'exotel', '}']\n",
      "['trailer']\n",
      "['order']\n",
      "['allahabad', 'varanasi', 'ke', u'liy', 'koi', 'train']\n",
      "['like', 'view', 'reminders.', '{', 'user_id', ':', '1907250', ',', 'offset', ':', '5', ',', u'api_nam', ':', 'exotel', '}']\n",
      "['can', 'get', 'aadhar', 'card', 'center', u'nearbi', '?']\n",
      "['anu', 'coupon', 'code', 'postpaid', 'bill', 'payment']\n",
      "['nt', u'anniversari']\n",
      "['cancel', u'book']\n",
      "['4pm', 'today']\n",
      "['m', 'j', u'librari']\n",
      "[u'ye', 'want', u'remind', u'meet']\n",
      "[u'sorri', u'look', u'fit', 'best', 'gym']\n",
      "['can', 'cancel', 'wake', u'call']\n",
      "['want', 'know', u'avail', 'fare', 'sleeper', '(', 'sl', ')', 'train', 'number', '12604', '{', u'product_id:12604_sc_ma', ',', u'api_nam', ':', 'trains_api', '}']\n",
      "['want', u'remind', 'ambala', 'cantt', u'bu']\n",
      "['can', 'check', u'statu', 'tdr', '?']\n",
      "[u'economi', u'ticket', u'avail']\n",
      "['u', 'know', 'pune', u'swargat', 'one', u'bu', 'stand', 'ok']\n",
      "['well', u'actual', \"'m\", u'plan', 'rameshwar', \"'m\", u'look', 'nearest', 'airport', 'railway', 'station', 'actual', u'book', 'ticket']\n",
      "[u'mujh', 'indian', 'bank', 'ka', 'atm', u'chahiy']\n",
      "['hi', 'sir/', 'madam', 'iwant', 'central', 'bank', u'atm']\n",
      "['remind', u'everi', '2', 'hour', 'water']\n",
      "['kya', 'aap', 'bta', 'saktey', 'ho', 'pune', 'sey', 'dehradun', 'k', u'liy', 'bhi', 'koi', 'flight', 'jati', 'h..']\n",
      "['3', 'pm', 'tomorrow']\n",
      "[\"n't\", 'drunk', 'water', 'time']\n",
      "[u'mobil', 'postpd']\n",
      "['will', 'book', 'june', 'end']\n",
      "['like', 'cancel', 'drink', 'water', u'remind', u'remind', 'everyday', u'everi', '2', u'hour', '10:00', '8:00', 'pm.', '{', 'reminder_list', ':', '684907', ',', 'user_id', ':', '1937936', ',', u'task_nam', ':', u'drink_wat', ',', 'offset', ':', '0', ',', u'api_nam', ':', 'exotel', '}']\n",
      "['hey', ',', 'can', 'find', 'nearest', 'atm', '?']\n",
      "['show', u'remind', 'now']\n",
      "['offer', u'book', 'train', 'tkt']\n",
      "['go', 'ahead', u'pleas']\n",
      "['like', 'cancel', 'call', u'remind', u'remind', 'everyday', '05:00', '{', 'reminder_list', ':', '631500', ',', 'user_id', ':', '1961281', ',', u'task_nam', ':', u'call_someon', ',', 'offset', ':', '0', ',', u'api_nam', ':', 'exotel', '}']\n",
      "[u'sorri', u'pleas', u'reschedul']\n",
      "['best', u'electr', 'bill', 'payment', u'show', 'error']\n",
      "['lwr', 'r', 'upr', 'brth']\n",
      "['can', u'recharg', u'relianc', 'jio']\n",
      "['can', 'tell', u'restaur', 'will', u'deliv', 'food', 'time', 'near']\n",
      "['3rd', '4th', 'march']\n",
      "['vl', 'ride', 'cost', 'plz']\n",
      "[u'restaur', u'deliveri', 'bankra']\n",
      "[u'ticket', u'costli']\n",
      "['icici', 'atm']\n",
      "['need', 'flight', 'ticket', 'vishakapattam', u'bangalor', 'today', '5th', u'even', '5', 'pm', u'singl', 'male']\n",
      "[u'sorri', 'pick', u'locat', 'wrong']\n",
      "[u'travel', 'hours..', '?', '?']\n",
      "[u'offer', u'electr', 'bill']\n",
      "['food', 'combo']\n",
      "['need', 'contact', 'number', 'hotel', 'manali', u'castl', 'manali']\n",
      "['hi..', 'will', 'tell', u'airfar', 'new', 'delhi', 'hyderabad', '11', 'april', '.']\n",
      "['maninagar']\n",
      "['book']\n",
      "['?', u'movi', u'releas', u'releas', 'today']\n",
      "['like', 'cancel', 'wake', 'call', 'sun', ',', '05', 'march', '02:13', 'pm', '{', 'reminder_list', ':', '713525', ',', 'user_id', ':', '1983938', ',', u'task_nam', ':', 'wakeup', ',', 'offset', ':', '0', ',', u'api_nam', ':', 'exotel', '}']\n",
      "['can', 'u', 'find', 'book', '?']\n",
      "['can', 'tell', 'second', 'sale', 'bike', u'dealer', 'delhi', '@', '110025']\n",
      "['shridi']\n",
      "['site', 'fare', '3974']\n",
      "['can', 'check', 'paymnt']\n",
      "['want', 'know', u'price']\n",
      "[u'distanc', 'ahmedabad', 'railway', 'station', 'airport']\n",
      "['opp', 'ibm', 'gate', 'no.', '1']\n",
      "['web', 'check', u'pleas']\n",
      "[u'pleas', 'help', 'order', 'chiken', u'spici', 'masala']\n",
      "['icici']\n",
      "['13', 'march', 'dj', u'cheta', 'concept', 'program', 'tulip', 'star', 'tickit', 'book']\n",
      "['will', 'reach', 'bagddogra', '22', 'airport']\n",
      "[u'confirm', '?']\n",
      "['want', 'cab', 'gurgaon', 'sector', '74', u'sky', 'view', u'cooper', 'park']\n",
      "['can', u'carri', 'desi', 'ghee', u'flight', '?', '?']\n",
      "['train', '?']\n",
      "['can', 'get', 'cab']\n",
      "['indian', 'post', u'nearbi']\n",
      "[u'pleas', u'provid', 'best', 'routin']\n",
      "['search', 'meghana', u'food']\n",
      "['act', u'govern']\n",
      "['offer', u'movi', u'ticket', 'commando', '2']\n",
      "['like', 'cancel', u'medicin', u'remind', 'everyday', '10:15', '{', 'reminder_list', ':', '557548', ',', 'user_id', ':', '512674', ',', u'task_nam', ':', u'medicin', ',', 'offset', ':', '0', ',', u'api_nam', ':', 'exotel', '}']\n",
      "[u'cinepoli', 'andheri', 'west']\n",
      "['wake', '6:05', '1st', 'march', '2017']\n",
      "['want', 'web', 'check']\n",
      "['pay', 'postpaid', 'bill']\n",
      "['m', u'look', 'salon']\n",
      "['dear', 'ms.', 'arora', ',', u'upcom', 'trip', 'pnr', 'n6vuhp', 'bom', '04-mar-2017', ',', 'use', 'spiceclub', u'point', 'pre-book', 'bag', 'first', ',', 'spicemax', u'seat', ',', 'hot', u'meal', ',', u'excess', u'baggag', ',', u'prioriti', 'check-in', ',', u'spiceloung', 'now', 'go', 'cashless.', 'log', u'http', ':', '//goo.gl/wavo1g.', u'excit', u'fare', u'promo', ',', 'download', u'offici', 'spicejet', u'mobil', 'app', 'http', ':', '//goo.gl/1ivf3m.', 'look', 'forward', u'welcom', 'board', '.']\n",
      "['can', 'book', 'can', 'haptik', 'wallet', 'can', 'pay', '?']\n",
      "[u'everyth', 'good']\n",
      "['can', u'pleas', 'set', 'wake', 'call', '6:18', '6:28', '.']\n",
      "[u'pl', 'rem8nd', 'attend', u'meet', '12.40', 'today']\n",
      "['cofirm', 'ticket', u'avail', '28', 'april', 'vasai-thivim', 'vasai-pernem']\n",
      "[u'price', u'expens']\n",
      "['dangal']\n",
      "['cashback', 'code', u'recharg', '?', '?']\n",
      "['piza']\n",
      "['hey', 'hasan', 'can', 'u', 'find', 'idbi', 'bank', 'atm', 'near']\n",
      "[u'upcom', u'movi']\n",
      "['hey', 'can', u'remain', 'tablet', '7:30', 'pm', u'daili', 'till', 'fifteen', u'day']\n",
      "['gandhinagar', ',', 'theater', u'avail', u'movi', '?']\n",
      "['dont', 'remind', '2', 'pm', '5', 'pm']\n",
      "[u'bu', u'book']\n",
      "[u'remov', u'alram']\n",
      "[u'recharg', 'offer', 'idea', 'prepaid']\n"
     ]
    },
    {
     "ename": "UnicodeDecodeError",
     "evalue": "'ascii' codec can't decode byte 0xf0 in position 0: ordinal not in range(128)",
     "output_type": "error",
     "traceback": [
      "\u001b[0;31m---------------------------------------------------------------------------\u001b[0m",
      "\u001b[0;31mUnicodeDecodeError\u001b[0m                        Traceback (most recent call last)",
      "\u001b[0;32m<ipython-input-29-52ded416f3d8>\u001b[0m in \u001b[0;36m<module>\u001b[0;34m()\u001b[0m\n\u001b[1;32m      2\u001b[0m \u001b[0;32mfor\u001b[0m \u001b[0mi\u001b[0m \u001b[0;32min\u001b[0m \u001b[0mrange\u001b[0m\u001b[0;34m(\u001b[0m\u001b[0mlen\u001b[0m\u001b[0;34m(\u001b[0m\u001b[0mX_train\u001b[0m\u001b[0;34m)\u001b[0m\u001b[0;34m)\u001b[0m\u001b[0;34m:\u001b[0m\u001b[0;34m\u001b[0m\u001b[0m\n\u001b[1;32m      3\u001b[0m     \u001b[0mtokens\u001b[0m \u001b[0;34m=\u001b[0m \u001b[0mX_train\u001b[0m\u001b[0;34m[\u001b[0m\u001b[0mi\u001b[0m\u001b[0;34m]\u001b[0m\u001b[0;34m\u001b[0m\u001b[0m\n\u001b[0;32m----> 4\u001b[0;31m     \u001b[0mtokens\u001b[0m \u001b[0;34m=\u001b[0m \u001b[0;34m[\u001b[0m\u001b[0mp_stemmer\u001b[0m\u001b[0;34m.\u001b[0m\u001b[0mstem\u001b[0m\u001b[0;34m(\u001b[0m\u001b[0mi\u001b[0m\u001b[0;34m)\u001b[0m \u001b[0;32mfor\u001b[0m \u001b[0mi\u001b[0m \u001b[0;32min\u001b[0m \u001b[0mtokens\u001b[0m\u001b[0;34m]\u001b[0m\u001b[0;34m\u001b[0m\u001b[0m\n\u001b[0m\u001b[1;32m      5\u001b[0m     \u001b[0mtext\u001b[0m \u001b[0;34m=\u001b[0m \u001b[0mtext\u001b[0m \u001b[0;34m+\u001b[0m \u001b[0mtokens\u001b[0m\u001b[0;34m\u001b[0m\u001b[0m\n\u001b[1;32m      6\u001b[0m     \u001b[0;32mprint\u001b[0m\u001b[0;34m(\u001b[0m\u001b[0mtokens\u001b[0m\u001b[0;34m)\u001b[0m\u001b[0;34m\u001b[0m\u001b[0m\n",
      "\u001b[0;32m/home/jay/miniconda3/envs/py27/lib/python2.7/site-packages/nltk/stem/porter.pyc\u001b[0m in \u001b[0;36mstem\u001b[0;34m(self, word)\u001b[0m\n\u001b[1;32m    663\u001b[0m             \u001b[0;32mreturn\u001b[0m \u001b[0mword\u001b[0m\u001b[0;34m\u001b[0m\u001b[0m\n\u001b[1;32m    664\u001b[0m \u001b[0;34m\u001b[0m\u001b[0m\n\u001b[0;32m--> 665\u001b[0;31m         \u001b[0mstem\u001b[0m \u001b[0;34m=\u001b[0m \u001b[0mself\u001b[0m\u001b[0;34m.\u001b[0m\u001b[0m_step1a\u001b[0m\u001b[0;34m(\u001b[0m\u001b[0mstem\u001b[0m\u001b[0;34m)\u001b[0m\u001b[0;34m\u001b[0m\u001b[0m\n\u001b[0m\u001b[1;32m    666\u001b[0m         \u001b[0mstem\u001b[0m \u001b[0;34m=\u001b[0m \u001b[0mself\u001b[0m\u001b[0;34m.\u001b[0m\u001b[0m_step1b\u001b[0m\u001b[0;34m(\u001b[0m\u001b[0mstem\u001b[0m\u001b[0;34m)\u001b[0m\u001b[0;34m\u001b[0m\u001b[0m\n\u001b[1;32m    667\u001b[0m         \u001b[0mstem\u001b[0m \u001b[0;34m=\u001b[0m \u001b[0mself\u001b[0m\u001b[0;34m.\u001b[0m\u001b[0m_step1c\u001b[0m\u001b[0;34m(\u001b[0m\u001b[0mstem\u001b[0m\u001b[0;34m)\u001b[0m\u001b[0;34m\u001b[0m\u001b[0m\n",
      "\u001b[0;32m/home/jay/miniconda3/envs/py27/lib/python2.7/site-packages/nltk/stem/porter.pyc\u001b[0m in \u001b[0;36m_step1a\u001b[0;34m(self, word)\u001b[0m\n\u001b[1;32m    288\u001b[0m         \u001b[0;31m# that 'flies'->'fli' but 'dies'->'die' etc\u001b[0m\u001b[0;34m\u001b[0m\u001b[0;34m\u001b[0m\u001b[0m\n\u001b[1;32m    289\u001b[0m         \u001b[0;32mif\u001b[0m \u001b[0mself\u001b[0m\u001b[0;34m.\u001b[0m\u001b[0mmode\u001b[0m \u001b[0;34m==\u001b[0m \u001b[0mself\u001b[0m\u001b[0;34m.\u001b[0m\u001b[0mNLTK_EXTENSIONS\u001b[0m\u001b[0;34m:\u001b[0m\u001b[0;34m\u001b[0m\u001b[0m\n\u001b[0;32m--> 290\u001b[0;31m             \u001b[0;32mif\u001b[0m \u001b[0mword\u001b[0m\u001b[0;34m.\u001b[0m\u001b[0mendswith\u001b[0m\u001b[0;34m(\u001b[0m\u001b[0;34m'ies'\u001b[0m\u001b[0;34m)\u001b[0m \u001b[0;32mand\u001b[0m \u001b[0mlen\u001b[0m\u001b[0;34m(\u001b[0m\u001b[0mword\u001b[0m\u001b[0;34m)\u001b[0m \u001b[0;34m==\u001b[0m \u001b[0;36m4\u001b[0m\u001b[0;34m:\u001b[0m\u001b[0;34m\u001b[0m\u001b[0m\n\u001b[0m\u001b[1;32m    291\u001b[0m                 \u001b[0;32mreturn\u001b[0m \u001b[0mself\u001b[0m\u001b[0;34m.\u001b[0m\u001b[0m_replace_suffix\u001b[0m\u001b[0;34m(\u001b[0m\u001b[0mword\u001b[0m\u001b[0;34m,\u001b[0m \u001b[0;34m'ies'\u001b[0m\u001b[0;34m,\u001b[0m \u001b[0;34m'ie'\u001b[0m\u001b[0;34m)\u001b[0m\u001b[0;34m\u001b[0m\u001b[0m\n\u001b[1;32m    292\u001b[0m \u001b[0;34m\u001b[0m\u001b[0m\n",
      "\u001b[0;31mUnicodeDecodeError\u001b[0m: 'ascii' codec can't decode byte 0xf0 in position 0: ordinal not in range(128)"
     ]
    }
   ],
   "source": [
    "text = []\n",
    "for i in range(len(X_train)):\n",
    "    tokens = X_train[i]\n",
    "    tokens = [p_stemmer.stem(i) for i in tokens]\n",
    "    text = text + tokens\n",
    "    print(tokens)"
   ]
  },
  {
   "cell_type": "markdown",
   "metadata": {
    "deletable": true,
    "editable": true
   },
   "source": [
    "## WordCloud\n",
    "\n",
    "WordClouds are a quick way to check the result of our preprocessing steps and debug them."
   ]
  },
  {
   "cell_type": "code",
   "execution_count": 31,
   "metadata": {
    "collapsed": false,
    "deletable": true,
    "editable": true,
    "scrolled": true
   },
   "outputs": [
    {
     "data": {
      "text/plain": [
       "u\"7am everyday chocol cake close mortic tenon joint door diment train eppo kelambum yesterday cancel flight ticket chamg 12pm 9pm want go rajasthan room can pleas arrang flight ticket ? kind remind jamshedpur jharkhand noidaa secot 44 flight spicejet uber 3.3.17 fare high know train run jalgaon pune pl send current statu train ticket ye 've got remind now pleas wake today 6am patli aligarh train week can look flight option ? thrursday remind ? remind payment made ola money silchar guwahati five peopl like cancel wake call sun , 05 march 05:00 { reminder_list : 708936 , user_id : 1982962 , task_nam : wakeup , offset : 0 , api_nam : exotel } hey , can find nearest medic store ? { task } pleas detail train 12630 9761004710 inform within one & half hour cashback train book ? need u contact canara bank atm like cancel `wish soni happi birthday ! ` remind tue , 06 februari 10:00 { reminder_list : 659272 , user_id : 1968352 , task_nam : birthday , offset : 0 , api_nam : exotel } i. look railway reserv ticket counter train no:11058 march 3rd morn 7am want pay phone bill alreadi just now recharg haptik like cancel 1 remind pleas book train ticket 2 ac 's cashback thalasseri need order 2 birthday cake . nearest domino pickup - mini airtel number cash back know ? set anoth remind { type : anniversari } want know remind birthday everi year , ? ? need driver physiotherapi avail home servic near may pay punjab state electr bill cheet ask alaram mng 3.30 can do. find shop someon anoth station near histor site want iob atm can appli refer code ride bar near tarnaka rate ? pl cancel like cancel drink water remind remind everyday everi 1 hour 10:00 8:00 pm. { reminder_list : 610916 , user_id : 1955133 , task_nam : drink_wat , offset : 0 , api_nam : exotel } need know airlin cheapest kolkata jaipur can stop remind set drink water there12591 gop express train 5march 3pm 7/ 3/ 17 plz send discount coupon electr bill near nimhan hospit offer valid telangana state r bhwn eye specialist hospit will give feedback remind perform citi bank atm need udaipur train schedul jaipur far filmciti gate no. 7 goregaav local railway station cab avail ? ? ? ? cashback ? ? tell nearbi place visit birthday celebr hi can pleas turn remind n't need anymor anyway hv child wid remind appoint reschedul n't need train.. like cancel drink water remind remind sat , 04 march everi 1 hour 9:30 6:30 pm. { reminder_list : 658338-658339-658340-658341-658342-658343 , user_id : 1822150 , task_nam : drink_wat , offset : 0 , api_nam : exotel } like cancel wake call everyday 06:00 { reminder_list : 682755 , user_id : 1977090 , task_nam : wakeup , offset : 0 , api_nam : exotel } evryday tirupathi hyderabad 8th march ..2 adult 1 infant 1 month age rosewood restaur dang chowk give last ticket pnr today 7pm check anoth date stop water remind want book cab remind appli sbi po exam monday tomorrow 6 pm like cancel `wish mounika happi birthday ! ` remind sun , 20 august 12:00 { reminder_list : 667515 , user_id : 1971980 , task_nam : birthday , offset : 0 , api_nam : exotel } bagalkot mumbai thr discount coupan raliway book ? ? like cancel `wish sayali happi birthday ! ` remind sat , 04 march 07:55 { reminder_list : 624916 , user_id : 1861336 , task_nam : birthday , offset : 0 , api_nam : exotel } hey u reffer code ola cab commando today show nand pune offer cash back recharg like cancel wake call wed , 01 march 05:25 { reminder_list : 664991 , user_id : 1140979 , task_nam : wakeup , offset : 0 , api_nam : exotel } chennai zurich ... .all around europe..paris..amsterdam ... honeymoon coupl ... prefer march end april 17..15 day ... cancel remaind drink water canu remind drive water ? will charg trip manali 2 person ? mujh tatkal boke krani h pondicherri 's estim price 4541511755 can pleas check recharg done list veg hotel remind 3.4.17 9pm ok pleas book cab 'm ask drama need buy1 get 1 hi take away train seat book even time buse available. ? 16 17 's flexible. need better price search 2 bhk flat gurgaon pleas check vit institut certifi last will give certif student bu timet pune chopda school thane need food nearbi remind meet pratap saturday think kolkata flight bhutan valid share hyderabad airport banjara hill road 12 kirik parti want servic remain remaind show plese samolkot vizag danc bar know bill came dnt messag reserv even mail can pl help chose good restaur lunch tomo allahabad like know nearbi place can deliv cake order address ? ? remind everi 2hr pl done. bill paid. thanks.. santosh dhaba veggi 5758 train kakinada thirupathi pa passeng like cancel wake call wed , 01 march 04:30 pm { reminder_list : 604103 , user_id : 1413102 , task_nam : wakeup , offset : 0 , api_nam : exotel } remind print report 10.30 also need remind buy medicin minimum cab valu kitni honi chahiy wan na cancel anniversari remind north indian 17255 axi hdfc canc tommorrow wake ok mam cheak 37 cashback , want book remind 8.38 tomorrow pleas send narayana hrudalaya hospit phone number opd set one remind just want use pool gym metro inox departur citi : ndls/new delhi destin citi : lar/lalitpur date travel : march 4 , 2017 class : sl - sleeper number adult : 1 2 hr tiffin servic avail 110 n't need uber. ! ! like cancel drink water remind remind everyday everi 1 hour 10:00 8:00 pm. { reminder_list : 684427 , user_id : 1977653 , task_nam : drink_wat , offset : 0 , api_nam : exotel } 's n't remind mistak remind like cancel drink water remind remind sun , 05 march everi 4 hour 10:00 8:00 pm. { reminder_list : 710967-710968-710969 , user_id : 1982381 , task_nam : drink_wat , offset : 0 , api_nam : exotel } trailer order allahabad varanasi ke liy koi train like view reminders. { user_id : 1907250 , offset : 5 , api_nam : exotel } can get aadhar card center nearbi ? anu coupon code postpaid bill payment nt anniversari cancel book 4pm today m j librari ye want remind meet sorri look fit best gym can cancel wake call want know avail fare sleeper ( sl ) train number 12604 { product_id:12604_sc_ma , api_nam : trains_api } want remind ambala cantt bu can check statu tdr ? economi ticket avail u know pune swargat one bu stand ok well actual 'm plan rameshwar 'm look nearest airport railway station actual book ticket mujh indian bank ka atm chahiy hi sir/ madam iwant central bank atm remind everi 2 hour water kya aap bta saktey ho pune sey dehradun k liy bhi koi flight jati h.. 3 pm tomorrow n't drunk water time mobil postpd will book june end like cancel drink water remind remind everyday everi 2 hour 10:00 8:00 pm. { reminder_list : 684907 , user_id : 1937936 , task_nam : drink_wat , offset : 0 , api_nam : exotel } hey , can find nearest atm ? show remind now offer book train tkt go ahead pleas like cancel call remind remind everyday 05:00 { reminder_list : 631500 , user_id : 1961281 , task_nam : call_someon , offset : 0 , api_nam : exotel } sorri pleas reschedul best electr bill payment show error lwr r upr brth can recharg relianc jio can tell restaur will deliv food time near 3rd 4th march vl ride cost plz restaur deliveri bankra ticket costli icici atm need flight ticket vishakapattam bangalor today 5th even 5 pm singl male sorri pick locat wrong travel hours.. ? ? offer electr bill food combo need contact number hotel manali castl manali hi.. will tell airfar new delhi hyderabad 11 april . maninagar book ? movi releas releas today like cancel wake call sun , 05 march 02:13 pm { reminder_list : 713525 , user_id : 1983938 , task_nam : wakeup , offset : 0 , api_nam : exotel } can u find book ? can tell second sale bike dealer delhi @ 110025 shridi site fare 3974 can check paymnt want know price distanc ahmedabad railway station airport opp ibm gate no. 1 web check pleas pleas help order chiken spici masala icici 13 march dj cheta concept program tulip star tickit book will reach bagddogra 22 airport confirm ? want cab gurgaon sector 74 sky view cooper park can carri desi ghee flight ? ? train ? can get cab indian post nearbi pleas provid best routin search meghana food act govern offer movi ticket commando 2 like cancel medicin remind everyday 10:15 { reminder_list : 557548 , user_id : 512674 , task_nam : medicin , offset : 0 , api_nam : exotel } cinepoli andheri west wake 6:05 1st march 2017 want web check pay postpaid bill m look salon dear ms. arora , upcom trip pnr n6vuhp bom 04-mar-2017 , use spiceclub point pre-book bag first , spicemax seat , hot meal , excess baggag , prioriti check-in , spiceloung now go cashless. log http : //goo.gl/wavo1g. excit fare promo , download offici spicejet mobil app http : //goo.gl/1ivf3m. look forward welcom board . can book can haptik wallet can pay ? everyth good can pleas set wake call 6:18 6:28 . pl rem8nd attend meet 12.40 today cofirm ticket avail 28 april vasai-thivim vasai-pernem price expens dangal cashback code recharg ? ? piza hey hasan can u find idbi bank atm near upcom movi hey can remain tablet 7:30 pm daili till fifteen day gandhinagar , theater avail movi ? dont remind 2 pm 5 pm bu book remov alram recharg offer idea prepaid\""
      ]
     },
     "execution_count": 31,
     "metadata": {},
     "output_type": "execute_result"
    }
   ],
   "source": [
    "textall = \" \".join(text)\n",
    "textall"
   ]
  },
  {
   "cell_type": "code",
   "execution_count": 32,
   "metadata": {
    "collapsed": false,
    "deletable": true,
    "editable": true
   },
   "outputs": [
    {
     "data": {
      "text/plain": [
       "(-0.5, 399.5, 199.5, -0.5)"
      ]
     },
     "execution_count": 32,
     "metadata": {},
     "output_type": "execute_result"
    },
    {
     "data": {
      "image/png": "[encoded data removed]",
      "text/plain": [
       "<matplotlib.figure.Figure at 0x7f06b45e39d0>"
      ]
     },
     "metadata": {},
     "output_type": "display_data"
    }
   ],
   "source": [
    "from wordcloud import WordCloud\n",
    "import matplotlib.pyplot as plt\n",
    "%matplotlib inline\n",
    "\n",
    "wordcloud = WordCloud().generate(textall)\n",
    "plt.imshow(wordcloud, interpolation='bilinear')\n",
    "plt.axis(\"off\")"
   ]
  },
  {
   "cell_type": "markdown",
   "metadata": {
    "deletable": true,
    "editable": true
   },
   "source": [
    "## WordCloud with lower max font size"
   ]
  },
  {
   "cell_type": "code",
   "execution_count": 33,
   "metadata": {
    "collapsed": false,
    "deletable": true,
    "editable": true
   },
   "outputs": [
    {
     "data": {
      "image/png": "[encoded data removed]",
      "text/plain": [
       "<matplotlib.figure.Figure at 0x7f06b292ae50>"
      ]
     },
     "metadata": {},
     "output_type": "display_data"
    }
   ],
   "source": [
    "# lower max_font_size\n",
    "wordcloud = WordCloud(max_font_size=40).generate(textall)\n",
    "plt.figure()\n",
    "plt.imshow(wordcloud, interpolation=\"bilinear\")\n",
    "plt.axis(\"off\")\n",
    "plt.show()"
   ]
  },
  {
   "cell_type": "markdown",
   "metadata": {
    "deletable": true,
    "editable": true
   },
   "source": [
    "## WordCloud with additional stopwords"
   ]
  },
  {
   "cell_type": "code",
   "execution_count": 34,
   "metadata": {
    "collapsed": false,
    "deletable": true,
    "editable": true
   },
   "outputs": [
    {
     "data": {
      "image/png": "[encoded data removed]",
      "text/plain": [
       "<matplotlib.figure.Figure at 0x7f06b04ca690>"
      ]
     },
     "metadata": {},
     "output_type": "display_data"
    },
    {
     "data": {
      "text/plain": [
       "<matplotlib.figure.Figure at 0x7f06b2546f10>"
      ]
     },
     "metadata": {},
     "output_type": "display_data"
    }
   ],
   "source": [
    "from os import path\n",
    "from PIL import Image\n",
    "import numpy as np\n",
    "import matplotlib.pyplot as plt\n",
    "from wordcloud import WordCloud, STOPWORDS\n",
    "\n",
    "haptik_mask = np.array(Image.open(\"./images/haptik.png\"))\n",
    "\n",
    "stopwords = set(STOPWORDS)\n",
    "stopwords.add(\"flight\")\n",
    "\n",
    "wc = WordCloud(max_words=2000, stopwords=stopwords)\n",
    "# generate word cloud\n",
    "wc = wc.generate(textall)\n",
    "\n",
    "# show\n",
    "plt.imshow(wc, interpolation='bilinear')\n",
    "plt.axis(\"off\")\n",
    "plt.figure()\n",
    "plt.show()"
   ]
  },
  {
   "cell_type": "markdown",
   "metadata": {
    "deletable": true,
    "editable": true
   },
   "source": [
    "## Term-Document Matrix: Representing text as numerical data\n",
    "\n",
    "* **What is TDM**:  A document-term matrix or term-document matrix is a mathematical matrix that describes the frequency of terms that occur in a collection of documents. \n",
    "\n",
    "Consider a corpus of documents and a dictionary of terms contain all the words that appear in the documents. The term-document matrix then is a two-dimensional matrix whose rows are the terms and columns are the documents, so each entry (i, j) represents the frequency of term i in document j. ([source](https://www.quora.com/What-is-a-term-document-matrix))\n",
    "\n",
    "* **Why we care about TDM**:\n",
    "\n",
    "    1. Content words that appear several times in a document are probably more meaningful than content words that appear just once.\n",
    "    2. Words that appear more frequently in both our document as well other documenets (like \"the\", \"a\", \"an\" etc.) do not convey much meaning.\n",
    "    2. Infrequently used words are likely to be more interesting than common words."
   ]
  },
  {
   "cell_type": "markdown",
   "metadata": {
    "deletable": true,
    "editable": true
   },
   "source": [
    "## Text Preprocessing using `sklearn`\n",
    "\n",
    "`sklearn`'s `feature_extraction` module provides convenient API **CountVectorizer** to \"convert raw text into a matrix of token counts\" along with all the text processing steps we covered."
   ]
  },
  {
   "cell_type": "code",
   "execution_count": 35,
   "metadata": {
    "collapsed": true,
    "deletable": true,
    "editable": true
   },
   "outputs": [],
   "source": [
    "# import and instantiate CountVectorizer (with the default parameters)\n",
    "from sklearn.feature_extraction.text import CountVectorizer\n",
    "vect = CountVectorizer()"
   ]
  },
  {
   "cell_type": "code",
   "execution_count": 36,
   "metadata": {
    "collapsed": false,
    "deletable": true,
    "editable": true
   },
   "outputs": [
    {
     "data": {
      "text/plain": [
       "CountVectorizer(analyzer=u'word', binary=False, decode_error=u'strict',\n",
       "        dtype=<type 'numpy.int64'>, encoding=u'utf-8', input=u'content',\n",
       "        lowercase=True, max_df=1.0, max_features=None, min_df=1,\n",
       "        ngram_range=(1, 1), preprocessor=None, stop_words=None,\n",
       "        strip_accents=None, token_pattern=u'(?u)\\\\b\\\\w\\\\w+\\\\b',\n",
       "        tokenizer=None, vocabulary=None)"
      ]
     },
     "execution_count": 36,
     "metadata": {},
     "output_type": "execute_result"
    }
   ],
   "source": [
    "vect"
   ]
  },
  {
   "cell_type": "code",
   "execution_count": 45,
   "metadata": {
    "collapsed": false,
    "deletable": true,
    "editable": true
   },
   "outputs": [
    {
     "data": {
      "text/plain": [
       "CountVectorizer(analyzer=u'word', binary=False, decode_error=u'strict',\n",
       "        dtype=<type 'numpy.int64'>, encoding=u'utf-8', input=u'content',\n",
       "        lowercase=True, max_df=0.5, max_features=None, min_df=2,\n",
       "        ngram_range=(1, 2), preprocessor=None, stop_words='english',\n",
       "        strip_accents=None, token_pattern=u'(?u)\\\\b\\\\w\\\\w+\\\\b',\n",
       "        tokenizer=<bound method TreebankWordTokenizer.tokenize of <nltk.tokenize.treebank.TreebankWordTokenizer object at 0x7f06aec189d0>>,\n",
       "        vocabulary=None)"
      ]
     },
     "execution_count": 45,
     "metadata": {},
     "output_type": "execute_result"
    }
   ],
   "source": [
    "# use TreeankWordTokenizer\n",
    "tokenizer = TreebankWordTokenizer()\n",
    "vect.set_params(tokenizer=tokenizer.tokenize)"
   ]
  },
  {
   "cell_type": "code",
   "execution_count": 38,
   "metadata": {
    "collapsed": false,
    "deletable": true,
    "editable": true
   },
   "outputs": [
    {
     "data": {
      "text/plain": [
       "CountVectorizer(analyzer=u'word', binary=False, decode_error=u'strict',\n",
       "        dtype=<type 'numpy.int64'>, encoding=u'utf-8', input=u'content',\n",
       "        lowercase=True, max_df=1.0, max_features=None, min_df=1,\n",
       "        ngram_range=(1, 1), preprocessor=None, stop_words='english',\n",
       "        strip_accents=None, token_pattern=u'(?u)\\\\b\\\\w\\\\w+\\\\b',\n",
       "        tokenizer=<class 'nltk.tokenize.treebank.TreebankWordTokenizer'>,\n",
       "        vocabulary=None)"
      ]
     },
     "execution_count": 38,
     "metadata": {},
     "output_type": "execute_result"
    }
   ],
   "source": [
    "# remove English stop words\n",
    "vect.set_params(stop_words='english')"
   ]
  },
  {
   "cell_type": "code",
   "execution_count": 39,
   "metadata": {
    "collapsed": false,
    "deletable": true,
    "editable": true
   },
   "outputs": [
    {
     "data": {
      "text/plain": [
       "CountVectorizer(analyzer=u'word', binary=False, decode_error=u'strict',\n",
       "        dtype=<type 'numpy.int64'>, encoding=u'utf-8', input=u'content',\n",
       "        lowercase=True, max_df=1.0, max_features=None, min_df=1,\n",
       "        ngram_range=(1, 2), preprocessor=None, stop_words='english',\n",
       "        strip_accents=None, token_pattern=u'(?u)\\\\b\\\\w\\\\w+\\\\b',\n",
       "        tokenizer=<class 'nltk.tokenize.treebank.TreebankWordTokenizer'>,\n",
       "        vocabulary=None)"
      ]
     },
     "execution_count": 39,
     "metadata": {},
     "output_type": "execute_result"
    }
   ],
   "source": [
    "# include 1-grams and 2-grams\n",
    "vect.set_params(ngram_range=(1, 2))"
   ]
  },
  {
   "cell_type": "code",
   "execution_count": 40,
   "metadata": {
    "collapsed": false,
    "deletable": true,
    "editable": true
   },
   "outputs": [
    {
     "data": {
      "text/plain": [
       "CountVectorizer(analyzer=u'word', binary=False, decode_error=u'strict',\n",
       "        dtype=<type 'numpy.int64'>, encoding=u'utf-8', input=u'content',\n",
       "        lowercase=True, max_df=0.5, max_features=None, min_df=1,\n",
       "        ngram_range=(1, 2), preprocessor=None, stop_words='english',\n",
       "        strip_accents=None, token_pattern=u'(?u)\\\\b\\\\w\\\\w+\\\\b',\n",
       "        tokenizer=<class 'nltk.tokenize.treebank.TreebankWordTokenizer'>,\n",
       "        vocabulary=None)"
      ]
     },
     "execution_count": 40,
     "metadata": {},
     "output_type": "execute_result"
    }
   ],
   "source": [
    "# ignore terms that appear in more than 50% of the documents\n",
    "vect.set_params(max_df=0.5)"
   ]
  },
  {
   "cell_type": "code",
   "execution_count": 41,
   "metadata": {
    "collapsed": false,
    "deletable": true,
    "editable": true
   },
   "outputs": [
    {
     "data": {
      "text/plain": [
       "CountVectorizer(analyzer=u'word', binary=False, decode_error=u'strict',\n",
       "        dtype=<type 'numpy.int64'>, encoding=u'utf-8', input=u'content',\n",
       "        lowercase=True, max_df=0.5, max_features=None, min_df=2,\n",
       "        ngram_range=(1, 2), preprocessor=None, stop_words='english',\n",
       "        strip_accents=None, token_pattern=u'(?u)\\\\b\\\\w\\\\w+\\\\b',\n",
       "        tokenizer=<class 'nltk.tokenize.treebank.TreebankWordTokenizer'>,\n",
       "        vocabulary=None)"
      ]
     },
     "execution_count": 41,
     "metadata": {},
     "output_type": "execute_result"
    }
   ],
   "source": [
    "# only keep terms that appear in at least 2 documents\n",
    "vect.set_params(min_df=2)"
   ]
  },
  {
   "cell_type": "code",
   "execution_count": 46,
   "metadata": {
    "collapsed": false,
    "deletable": true,
    "editable": true,
    "scrolled": true
   },
   "outputs": [
    {
     "data": {
      "text/plain": [
       "[u'!',\n",
       " u'! !',\n",
       " u\"! 'm\",\n",
       " u'! ...',\n",
       " u'! :',\n",
       " u'! ?',\n",
       " u'! `',\n",
       " u'! check',\n",
       " u'! dude',\n",
       " u'! good',\n",
       " u'! help',\n",
       " u'! just',\n",
       " u'! let',\n",
       " u'! need',\n",
       " u'! sorry',\n",
       " u'! task',\n",
       " u'! thank',\n",
       " u'! thanks',\n",
       " u'! u',\n",
       " u'! want',\n",
       " u'! {',\n",
       " u'! \\u263a',\n",
       " u'! \\U0001f609',\n",
       " u'#',\n",
       " u'%',\n",
       " u'% ?',\n",
       " u'% cash',\n",
       " u'% cashback',\n",
       " u'% cb',\n",
       " u'% discount',\n",
       " u'&',\n",
       " u'& 3',\n",
       " u'& 5',\n",
       " u'& c',\n",
       " u'& installation',\n",
       " u'& return',\n",
       " u'& u',\n",
       " u\"'\",\n",
       " u\"' )\",\n",
       " u\"' everyday\",\n",
       " u\"' fri\",\n",
       " u\"' mon\",\n",
       " u\"' sat\",\n",
       " u\"' sun\",\n",
       " u\"' thu\",\n",
       " u\"' wed\",\n",
       " u\"''\",\n",
       " u\"'' ''\",\n",
       " u\"'' ,\",\n",
       " u\"'' everyday\",\n",
       " u\"'' https\",\n",
       " u\"'' s\",\n",
       " u\"'d\",\n",
       " u\"'d like\",\n",
       " u\"'ll\",\n",
       " u\"'ll book\",\n",
       " u\"'ll buy\",\n",
       " u\"'ll c\",\n",
       " u\"'ll come\",\n",
       " u\"'ll inform\",\n",
       " u\"'ll let\",\n",
       " u\"'ll pay\",\n",
       " u\"'ll recharge\",\n",
       " u\"'ll remind\",\n",
       " u\"'ll tell\",\n",
       " u\"'ll try\",\n",
       " u\"'m\",\n",
       " u\"'m able\",\n",
       " u\"'m asking\",\n",
       " u\"'m bored\",\n",
       " u\"'m doing\",\n",
       " u\"'m facing\",\n",
       " u\"'m fine\",\n",
       " u\"'m getting\",\n",
       " u\"'m going\",\n",
       " u\"'m hungry\",\n",
       " u\"'m interested\",\n",
       " u\"'m looking\",\n",
       " u\"'m planning\",\n",
       " u\"'m receiving\",\n",
       " u\"'m saying\",\n",
       " u\"'m search\",\n",
       " u\"'m searching\",\n",
       " u\"'m sorry\",\n",
       " u\"'m student\",\n",
       " u\"'m sure\",\n",
       " u\"'m telangana\",\n",
       " u\"'m traveling\",\n",
       " u\"'m travelling\",\n",
       " u\"'m uninstalling\",\n",
       " u\"'m waiting\",\n",
       " u\"'o\",\n",
       " u\"'re\",\n",
       " u\"'s\",\n",
       " u\"'s !\",\n",
       " u\"'s ,\",\n",
       " u\"'s .\",\n",
       " u\"'s ...\",\n",
       " u\"'s 10\",\n",
       " u\"'s 1000\",\n",
       " u\"'s 2\",\n",
       " u\"'s 3\",\n",
       " u\"'s 4\",\n",
       " u\"'s :\",\n",
       " u\"'s ?\",\n",
       " u\"'s address\",\n",
       " u\"'s age\",\n",
       " u\"'s alarm\",\n",
       " u\"'s app\",\n",
       " u\"'s available\",\n",
       " u\"'s bday\",\n",
       " u\"'s best\",\n",
       " u\"'s birthday\",\n",
       " u\"'s bus\",\n",
       " u\"'s c\",\n",
       " u\"'s cash\",\n",
       " u\"'s charge\",\n",
       " u\"'s coming\",\n",
       " u\"'s cost\",\n",
       " u\"'s costly\",\n",
       " u\"'s date\",\n",
       " u\"'s deal\",\n",
       " u\"'s deliver\",\n",
       " u\"'s discount\",\n",
       " u\"'s emergency\",\n",
       " u\"'s expensive\",\n",
       " u\"'s far\",\n",
       " u\"'s fare\",\n",
       " u\"'s fine\",\n",
       " u\"'s flight\",\n",
       " u\"'s gaurav\",\n",
       " u\"'s going\",\n",
       " u\"'s good\",\n",
       " u\"'s great\",\n",
       " u\"'s gud\",\n",
       " u\"'s happening\",\n",
       " u\"'s information\",\n",
       " u\"'s issue\",\n",
       " u\"'s jeans\",\n",
       " u\"'s just\",\n",
       " u\"'s k\",\n",
       " u\"'s location\",\n",
       " u\"'s menu\",\n",
       " u\"'s movie\",\n",
       " u\"'s movies\",\n",
       " u\"'s near\",\n",
       " u\"'s nearby\",\n",
       " u\"'s new\",\n",
       " u\"'s number\",\n",
       " u\"'s offer\",\n",
       " u\"'s ok\",\n",
       " u\"'s okay\",\n",
       " u\"'s online\",\n",
       " u\"'s order\",\n",
       " u\"'s parlour\",\n",
       " u\"'s pizza\",\n",
       " u\"'s pooja\",\n",
       " u\"'s postpaid\",\n",
       " u\"'s price\",\n",
       " u\"'s problem\",\n",
       " u\"'s remainder\",\n",
       " u\"'s reminder\",\n",
       " u\"'s review\",\n",
       " u\"'s schedule\",\n",
       " u\"'s sent\",\n",
       " u\"'s service\",\n",
       " u\"'s showing\",\n",
       " u\"'s shruti\",\n",
       " u\"'s source\",\n",
       " u\"'s started\",\n",
       " u\"'s thank\",\n",
       " u\"'s thanks\",\n",
       " u\"'s ticket\",\n",
       " u\"'s time\",\n",
       " u\"'s timing\",\n",
       " u\"'s today\",\n",
       " u\"'s u\",\n",
       " u\"'s uh\",\n",
       " u\"'s ur\",\n",
       " u\"'s urgent\",\n",
       " u\"'s useful\",\n",
       " u\"'s vodafone\",\n",
       " u\"'s waiting\",\n",
       " u\"'s want\",\n",
       " u\"'s watch\",\n",
       " u\"'s way\",\n",
       " u\"'s wear\",\n",
       " u\"'s work\",\n",
       " u\"'s wrong\",\n",
       " u\"'thanks\",\n",
       " u\"'thanks '\",\n",
       " u\"'ve\",\n",
       " u\"'ve cleared\",\n",
       " u\"'ve flight\",\n",
       " u\"'ve got\",\n",
       " u\"'ve said\",\n",
       " u\"'ve set\",\n",
       " u'(',\n",
       " u'( )',\n",
       " u'( 06',\n",
       " u'( 08',\n",
       " u'( 10',\n",
       " u'( 11',\n",
       " u'( 13',\n",
       " u'( 16',\n",
       " u'( 17',\n",
       " u'( 1a',\n",
       " u'( 2016',\n",
       " u'( 23',\n",
       " u'( 2a',\n",
       " u'( 2s',\n",
       " u'( 3a',\n",
       " u'( 6e-482',\n",
       " u'( 8gb',\n",
       " u'( ai-460',\n",
       " u'( ai-544',\n",
       " u'( audi',\n",
       " u'( booking',\n",
       " u'( cc',\n",
       " u'( day',\n",
       " u'( domestic',\n",
       " u'( haryana',\n",
       " u'( lift',\n",
       " u'( mon',\n",
       " u'( orisa',\n",
       " u'( punjab',\n",
       " u'( rajasthan',\n",
       " u'( sat',\n",
       " u'( sl',\n",
       " u'( tamil',\n",
       " u')',\n",
       " u') ,',\n",
       " u') -',\n",
       " u') .',\n",
       " u') ...',\n",
       " u') 02-03-2017',\n",
       " u') 03-03-2017',\n",
       " u') 04-03-2017',\n",
       " u') 05-03-2017',\n",
       " u') 06-03-2017',\n",
       " u') 10-03-2017',\n",
       " u') 10:00',\n",
       " u') 13-03-2017',\n",
       " u') :',\n",
       " u') ?',\n",
       " u') ahmedabad',\n",
       " u') arrival',\n",
       " u') available',\n",
       " u') bangalore',\n",
       " u') class',\n",
       " u') departure',\n",
       " u') flipkart',\n",
       " u') hyderabad',\n",
       " u') indigo',\n",
       " u') jaipur',\n",
       " u') kolkata',\n",
       " u') lucknow',\n",
       " u') maintenance',\n",
       " u') mumbai',\n",
       " u') new',\n",
       " u') patna',\n",
       " u') price',\n",
       " u') spicejet',\n",
       " u') today',\n",
       " u') train',\n",
       " u') {',\n",
       " u') }',\n",
       " u'*',\n",
       " u',',\n",
       " u\", 'd\",\n",
       " u\", 'll\",\n",
       " u\", 'm\",\n",
       " u\", 's\",\n",
       " u\", 've\",\n",
       " u', ,',\n",
       " u', ,what',\n",
       " u', .',\n",
       " u', ..',\n",
       " u', ...',\n",
       " u', 01',\n",
       " u', 02',\n",
       " u', 03',\n",
       " u', 04',\n",
       " u', 05',\n",
       " u', 06',\n",
       " u', 07',\n",
       " u', 08',\n",
       " u', 09',\n",
       " u', 1',\n",
       " u', 10',\n",
       " u', 11',\n",
       " u', 12',\n",
       " u', 13',\n",
       " u', 14',\n",
       " u', 15',\n",
       " u', 16',\n",
       " u', 18',\n",
       " u', 2',\n",
       " u', 20',\n",
       " u', 2017',\n",
       " u', 21',\n",
       " u', 24',\n",
       " u', 26',\n",
       " u', 29',\n",
       " u', 2nd',\n",
       " u', 3',\n",
       " u', 30',\n",
       " u', 31',\n",
       " u', 4',\n",
       " u', 45',\n",
       " u', 6:00',\n",
       " u', 6:15',\n",
       " u', 6:30',\n",
       " u', 6:45',\n",
       " u', 7:00',\n",
       " u', 7:15',\n",
       " u', :',\n",
       " u', ?',\n",
       " u', ac',\n",
       " u', actually',\n",
       " u', ahmedabad',\n",
       " u', airlines',\n",
       " u', airtel',\n",
       " u', api_id',\n",
       " u', api_id:1',\n",
       " u', api_id:8',\n",
       " u', api_name',\n",
       " u', ask',\n",
       " u', asked',\n",
       " u', assistant',\n",
       " u', bajaj',\n",
       " u', bangalore',\n",
       " u', bengaluru',\n",
       " u', best',\n",
       " u', bhubaneswar',\n",
       " u', big',\n",
       " u', book',\n",
       " u', booked',\n",
       " u', brahmapur',\n",
       " u', cancel',\n",
       " u', cancellation',\n",
       " u', cashback',\n",
       " u', cheap',\n",
       " u', cheapest',\n",
       " u', check',\n",
       " u', chennai',\n",
       " u', come',\n",
       " u', confirm',\n",
       " u', contact',\n",
       " u', cost',\n",
       " u', credit',\n",
       " u', d',\n",
       " u', day',\n",
       " u', days',\n",
       " u', deals',\n",
       " u', delhi',\n",
       " u', dell',\n",
       " u', departure',\n",
       " u', did',\n",
       " u', didnt',\n",
       " u', does',\n",
       " u', electricity',\n",
       " u', elevator',\n",
       " u', evening',\n",
       " u', fare',\n",
       " u', faridabad',\n",
       " u', fast',\n",
       " u', flight',\n",
       " u', flipkart',\n",
       " u', food',\n",
       " u', friday',\n",
       " u', girinagar',\n",
       " u', good',\n",
       " u', goregaon',\n",
       " u', great',\n",
       " u', gujarat',\n",
       " u', gurugram',\n",
       " u', guys',\n",
       " u', help',\n",
       " u', high',\n",
       " u', hyderabad',\n",
       " u', idea',\n",
       " u', india',\n",
       " u', indigo',\n",
       " u', inform',\n",
       " u', interested',\n",
       " u', jio',\n",
       " u', just',\n",
       " u', karnataka',\n",
       " u', kerala',\n",
       " u', kindly',\n",
       " u', know',\n",
       " u', kolkata',\n",
       " u', leave',\n",
       " u', let',\n",
       " u', like',\n",
       " u', local',\n",
       " u', location',\n",
       " u', long',\n",
       " u', looking',\n",
       " u', m',\n",
       " u', madhya',\n",
       " u', maharashtra',\n",
       " u', make',\n",
       " u', malunghe',\n",
       " u', matunga',\n",
       " u', medium',\n",
       " u', meeting',\n",
       " u', message',\n",
       " u', mg',\n",
       " u', mistake',\n",
       " u', monday',\n",
       " u', movie',\n",
       " u', mumbai',\n",
       " u\", n't\",\n",
       " u', navi',\n",
       " u', near',\n",
       " u', nearby',\n",
       " u', nearest',\n",
       " u', need',\n",
       " u', new',\n",
       " u', nice',\n",
       " u', noida',\n",
       " u', offset',\n",
       " u', ok',\n",
       " u', old',\n",
       " u', opposite',\n",
       " u', patna',\n",
       " u', pay',\n",
       " u', payment',\n",
       " u', paytm',\n",
       " u', penalty',\n",
       " u', pl',\n",
       " u', pls',\n",
       " u', plz',\n",
       " u', pnr',\n",
       " u', pre-book',\n",
       " u', price',\n",
       " u', pritampura',\n",
       " u', product_name',\n",
       " u', provide',\n",
       " u', pune',\n",
       " u', pvr',\n",
       " u', quick',\n",
       " u', r',\n",
       " u', rac',\n",
       " u', railway',\n",
       " u', reach',\n",
       " u', rear',\n",
       " u', received',\n",
       " u', recharge',\n",
       " u', remind',\n",
       " u', request_id',\n",
       " u', reserve',\n",
       " u', right',\n",
       " u', rlwl',\n",
       " u', s3',\n",
       " u', sc:0.0',\n",
       " u', seat_count',\n",
       " u', seat_count:1',\n",
       " u', seat_count:2',\n",
       " u', sector',\n",
       " u', send',\n",
       " u', service',\n",
       " u', set',\n",
       " u', share',\n",
       " u', shilpa',\n",
       " u', shop',\n",
       " u', sir',\n",
       " u', sl',\n",
       " u', sneha',\n",
       " u', sorry',\n",
       " u', suggest',\n",
       " u', sun',\n",
       " u', suraj',\n",
       " u', talk',\n",
       " u', task_name',\n",
       " u', tell',\n",
       " u', thank',\n",
       " u', thanks',\n",
       " u', thanks.',\n",
       " u', theatres',\n",
       " u', think',\n",
       " u', ticket',\n",
       " u', time',\n",
       " u', today',\n",
       " u', tomorrow',\n",
       " u', tonight',\n",
       " u', train',\n",
       " u', trains',\n",
       " u', travel',\n",
       " u', tried',\n",
       " u', tuesday',\n",
       " u', type',\n",
       " u', u',\n",
       " u', uber',\n",
       " u', unable',\n",
       " u', use',\n",
       " u', used',\n",
       " u', user_id',\n",
       " u', wake',\n",
       " u', wan',\n",
       " u', want',\n",
       " u', wanted',\n",
       " u', water',\n",
       " u', wednesday',\n",
       " u', west',\n",
       " u', whitefield',\n",
       " u', wil',\n",
       " u', yellow',\n",
       " u', yesterday',\n",
       " u',api_name',\n",
       " u',api_name :',\n",
       " u',what',\n",
       " u\",what 's\",\n",
       " u'-',\n",
       " u'- )',\n",
       " u'- 01',\n",
       " u'- 02',\n",
       " u'- 03',\n",
       " u'- 04',\n",
       " u'- 05',\n",
       " u'- 06',\n",
       " u'- 08',\n",
       " u'- 09',\n",
       " u'- 1',\n",
       " u'- 10',\n",
       " u'- 11',\n",
       " u'- 15',\n",
       " u'- 17',\n",
       " u'- 19',\n",
       " u'- 2',\n",
       " u'- 20',\n",
       " u'- 21',\n",
       " u'- 22',\n",
       " u'- 24',\n",
       " u'- 25',\n",
       " u'- 28',\n",
       " u'- 29',\n",
       " u'- 30',\n",
       " u'- 3nights',\n",
       " u'- 6',\n",
       " u'- class',\n",
       " u'- fri',\n",
       " u'- onward',\n",
       " u'- passenger',\n",
       " u'- rs.2023',\n",
       " u'- rs.3394',\n",
       " u'- rs.4722',\n",
       " u'- sleeper',\n",
       " u'- tell',\n",
       " u'- time',\n",
       " u'-_-',\n",
       " u'-urbanclap',\n",
       " u'.',\n",
       " u'. !',\n",
       " u\". ''\",\n",
       " u'. .',\n",
       " u'. 10',\n",
       " u'. ?',\n",
       " u'. able',\n",
       " u'. alerts',\n",
       " u'. anytime',\n",
       " u'. check',\n",
       " u'. guess',\n",
       " u\". n't\",\n",
       " u'. need',\n",
       " u'. package',\n",
       " u'. pls',\n",
       " u'. thank',\n",
       " u'. thanks',\n",
       " u'. want',\n",
       " u'. {',\n",
       " u'..',\n",
       " u'.. ?',\n",
       " u'.. date',\n",
       " u'.. need',\n",
       " u'.. pls',\n",
       " u'.. remind',\n",
       " u'.. tell',\n",
       " u'.. thanks',\n",
       " u'.. use',\n",
       " u'.. want',\n",
       " u'...',\n",
       " u'... !',\n",
       " u\"... 'm\",\n",
       " u\"... 's\",\n",
       " u'... .',\n",
       " u'... ..',\n",
       " u'... ...',\n",
       " u'... ..and',\n",
       " u'... ..do',\n",
       " u'... ..i',\n",
       " u'... ..so',\n",
       " u'... .all',\n",
       " u'... .and',\n",
       " u'... .but',\n",
       " u'... .can',\n",
       " u'... .could',\n",
       " u'... .for',\n",
       " u'... .i',\n",
       " u'... .or',\n",
       " u'... .remind',\n",
       " u'... .what',\n",
       " u'... 2',\n",
       " u'... 55',\n",
       " u'... ?',\n",
       " u'... abhi',\n",
       " u'... alarms',\n",
       " u'... availability',\n",
       " u'... best',\n",
       " u'... book',\n",
       " u'... calls',\n",
       " u'... cash',\n",
       " u'... check',\n",
       " u'... color',\n",
       " u'... date',\n",
       " u'... delivery',\n",
       " u'... did',\n",
       " u'... does',\n",
       " u'... fix',\n",
       " u'... good',\n",
       " u'... help',\n",
       " u'... hope',\n",
       " u'... hv',\n",
       " u'... just',\n",
       " u'... kindly',\n",
       " u'... know',\n",
       " u'... let',\n",
       " u'... like',\n",
       " u'... looking',\n",
       " u'... m',\n",
       " u\"... n't\",\n",
       " u'... near',\n",
       " u'... need',\n",
       " u'... nice',\n",
       " u'... options',\n",
       " u'... pl',\n",
       " u'... planning',\n",
       " u'... pls',\n",
       " u'... plz',\n",
       " u'... pooja',\n",
       " u'... return',\n",
       " u'... shruti\\U0001f44d',\n",
       " u'... sleeping',\n",
       " u'... sorry',\n",
       " u'... suggest',\n",
       " u'... tell',\n",
       " u'... thank',\n",
       " u'... thanks',\n",
       " u'... time',\n",
       " u'... today',\n",
       " u'... tomorrow',\n",
       " u'... total',\n",
       " u'... u',\n",
       " u'... ur',\n",
       " u'... use',\n",
       " u'... wake',\n",
       " u'... want',\n",
       " u'... wife',\n",
       " u'... y',\n",
       " u'... \\U0001f44d',\n",
       " u'... \\U0001f60a',\n",
       " u'..2',\n",
       " u'..2 adults',\n",
       " u'..and',\n",
       " u'..any',\n",
       " u'..can',\n",
       " u'..can u',\n",
       " u'..do',\n",
       " u'..do u',\n",
       " u'..i',\n",
       " u'..i need',\n",
       " u'..so',\n",
       " u'.all',\n",
       " u'.and',\n",
       " u'.but',\n",
       " u'.can',\n",
       " u'.can u',\n",
       " u'.could',\n",
       " u'.for',\n",
       " u'.i',\n",
       " u'.i need',\n",
       " u'.i want',\n",
       " u'.if',\n",
       " u'.my',\n",
       " u'.n',\n",
       " u'.only',\n",
       " u'.or',\n",
       " u'.please',\n",
       " u'.remind',\n",
       " u'.thanks',\n",
       " u'.this',\n",
       " u'.what',\n",
       " u'.what cost',\n",
       " u'/',\n",
       " u'/ 4',\n",
       " u'//youtu.be/fnfk_dv-mmu',\n",
       " u'/offers',\n",
       " u'0',\n",
       " u'0 ,',\n",
       " u'0.5',\n",
       " u'0.5 kms',\n",
       " u'00',\n",
       " u'00 pm',\n",
       " u'00 time2',\n",
       " u'00:00',\n",
       " u'01',\n",
       " u'01 april',\n",
       " u'01 march',\n",
       " u'0110',\n",
       " u'0110 pm',\n",
       " u'0115',\n",
       " u'0115 pm',\n",
       " u'01:00',\n",
       " u'01:00 pm',\n",
       " u'01:00 {',\n",
       " u'01:10',\n",
       " u'01:10 pm',\n",
       " u'01:15',\n",
       " u'01:15 pm',\n",
       " u'01:45',\n",
       " u'01:45 pm',\n",
       " u'02',\n",
       " u'02 april',\n",
       " u'02 mar',\n",
       " u'02 march',\n",
       " u'02-03-2017',\n",
       " u'02-03-2017 .',\n",
       " u'022',\n",
       " u'02:00',\n",
       " u'02:00 pm',\n",
       " u'02:00 {',\n",
       " u'02:30',\n",
       " u'02:30 pm',\n",
       " u'02:57',\n",
       " u'02:57 pm',\n",
       " u'03',\n",
       " u'03 march',\n",
       " u'03-03-2017',\n",
       " u'03-03-2017 .',\n",
       " u'0320',\n",
       " u'0320 pm',\n",
       " u'03:00',\n",
       " u'03:00 pm',\n",
       " u'03:20',\n",
       " u'03:20 pm',\n",
       " u'03:30',\n",
       " u'03:30 pm',\n",
       " u'03:30 {',\n",
       " u'04',\n",
       " u'04 )',\n",
       " u'04 march',\n",
       " u'04-03-2017',\n",
       " u'04-03-2017 .',\n",
       " u'0415',\n",
       " u'0415 pm',\n",
       " u'04401',\n",
       " u'04401 {',\n",
       " u'04425',\n",
       " u'04805',\n",
       " u'04805 current',\n",
       " u'04:00',\n",
       " u'04:00 pm',\n",
       " u'04:00 {',\n",
       " u'04:05',\n",
       " u'04:05 {',\n",
       " u'04:10',\n",
       " u'04:10 {',\n",
       " u'04:15',\n",
       " u'04:15 pm',\n",
       " u'04:20',\n",
       " u'04:25',\n",
       " u'04:30',\n",
       " u'04:30 pm',\n",
       " u'04:30 {',\n",
       " u'04:45',\n",
       " u'04:45 pm',\n",
       " u'04th',\n",
       " u'04th march',\n",
       " u'05',\n",
       " u'05 april',\n",
       " u'05 mar',\n",
       " u'05 march',\n",
       " u'05-03-2017',\n",
       " u'05-03-2017 .',\n",
       " u'05.03.2017',\n",
       " u'05/03/17',\n",
       " u'05/03/2017',\n",
       " u'05:00',\n",
       " u'05:00 pm',\n",
       " u'05:00 {',\n",
       " u'05:01',\n",
       " u'05:01 {',\n",
       " u'05:05',\n",
       " u'05:10',\n",
       " u'05:10 {',\n",
       " u'05:15',\n",
       " u'05:15 {',\n",
       " u'05:20',\n",
       " u'05:20 pm',\n",
       " u'05:20 {',\n",
       " u'05:25',\n",
       " u'05:25 pm',\n",
       " u'05:25 {',\n",
       " u'05:30',\n",
       " u'05:30 pm',\n",
       " u'05:30 {',\n",
       " u'05:35',\n",
       " u'05:35 {',\n",
       " u'05:40',\n",
       " u'05:40 pm',\n",
       " u'05:40 {',\n",
       " u'05:45',\n",
       " u'05:45 pm',\n",
       " u'05:45 {',\n",
       " u'05:50',\n",
       " u'05:50 {',\n",
       " u'05:55',\n",
       " u'05:55 {',\n",
       " u'05:56',\n",
       " u'05:56 {',\n",
       " u'06',\n",
       " u'06 mar',\n",
       " u'06 march',\n",
       " u'06-03-2017',\n",
       " u'06-03-2017 .',\n",
       " u'06.03.2017',\n",
       " u'06/03',\n",
       " u'06/03 5pm',\n",
       " u'06/mar/17',\n",
       " u'0605',\n",
       " u'0625',\n",
       " u'0625 (',\n",
       " u'06:00',\n",
       " u'06:00 pm',\n",
       " u'06:00 {',\n",
       " u'06:05',\n",
       " u'06:05 {',\n",
       " u'06:10',\n",
       " u'06:10 {',\n",
       " u'06:15',\n",
       " u'06:15 {',\n",
       " u'06:20',\n",
       " u'06:25',\n",
       " u'06:25 (',\n",
       " u'06:25 pm',\n",
       " u'06:30',\n",
       " u'06:30 {',\n",
       " u'06:36',\n",
       " u'06:36 pm',\n",
       " u'06:40',\n",
       " u'06:40 {',\n",
       " u'06:45',\n",
       " u'06:50',\n",
       " u'07',\n",
       " u'07 )',\n",
       " u'07 march',\n",
       " u'0745',\n",
       " u'075',\n",
       " u'078752',\n",
       " u'078752 19197',\n",
       " u'07:00',\n",
       " u'07:00 pm',\n",
       " u'07:00 {',\n",
       " u'07:05',\n",
       " u'07:05 {',\n",
       " u'07:10',\n",
       " u'07:10 {',\n",
       " u'07:15',\n",
       " u'07:15 pm',\n",
       " u'07:15 {',\n",
       " u'07:20',\n",
       " u'07:25',\n",
       " u'07:25 (',\n",
       " u'07:30',\n",
       " u'07:30 pm',\n",
       " u'07:30 {',\n",
       " u'07:30am',\n",
       " u'07:35',\n",
       " u'07:35 pm',\n",
       " u'07:35 {',\n",
       " u'07:39',\n",
       " u'07:39 pm',\n",
       " u'07:40',\n",
       " u'07:40 {',\n",
       " u'07:45',\n",
       " u'07:55',\n",
       " u'07:58',\n",
       " u'07:58 pm',\n",
       " u'08',\n",
       " u'08 apr',\n",
       " u'08 march',\n",
       " u'0840',\n",
       " u'08:00',\n",
       " u'08:00 pm',\n",
       " u'08:00 {',\n",
       " u'08:04',\n",
       " u'08:04 {',\n",
       " u'08:15',\n",
       " u'08:16',\n",
       " u'08:16 {',\n",
       " u'08:20',\n",
       " u'08:30',\n",
       " u'08:30 pm',\n",
       " u'08:30 {',\n",
       " u'08:35',\n",
       " u'08:40',\n",
       " u'08:45',\n",
       " u'08:45 {',\n",
       " u'08:50',\n",
       " u'08:50 pm',\n",
       " u'08:55',\n",
       " u'08:55 pm',\n",
       " u'09',\n",
       " u'09 march',\n",
       " u'0905',\n",
       " u'0905 (',\n",
       " u'0910',\n",
       " u'0925',\n",
       " u'0955',\n",
       " u'09:00',\n",
       " u'09:00 pm',\n",
       " u'09:00 {',\n",
       " u'09:01',\n",
       " u'09:01 {',\n",
       " u'09:05',\n",
       " u'09:05 (',\n",
       " u'09:10',\n",
       " u'09:15',\n",
       " u'09:15 pm',\n",
       " u'09:25',\n",
       " u'09:30',\n",
       " u'09:30 pm',\n",
       " u'09:30 {',\n",
       " u'09:35',\n",
       " u'09:45',\n",
       " u'09:50',\n",
       " u'09:50 {',\n",
       " u'09:55',\n",
       " u'09:59',\n",
       " u'0k',\n",
       " u'1',\n",
       " u'1 ,',\n",
       " u'1 1',\n",
       " u'1 2',\n",
       " u'1 :',\n",
       " u'1 adult',\n",
       " u'1 april',\n",
       " u'1 bhk',\n",
       " u'1 chicken',\n",
       " u'1 child',\n",
       " u'1 day',\n",
       " u'1 free',\n",
       " u'1 glass',\n",
       " u'1 hour',\n",
       " u'1 hours',\n",
       " u'1 hr',\n",
       " u'1 inch',\n",
       " u'1 infant',\n",
       " u'1 july',\n",
       " u'1 kid',\n",
       " u'1 march',\n",
       " u'1 min',\n",
       " u'1 month',\n",
       " u'1 night',\n",
       " u\"1 o'clock\",\n",
       " u'1 offer',\n",
       " u'1 passenger',\n",
       " u'1 passengers',\n",
       " u'1 person',\n",
       " u'1 plate',\n",
       " u'1 pm',\n",
       " u'1 recharge',\n",
       " u'1 reminder',\n",
       " u'1 room',\n",
       " u'1 seat',\n",
       " u'1 sec',\n",
       " u'1 st',\n",
       " u'1 stop',\n",
       " u'1 thing',\n",
       " u'1 ticket',\n",
       " u'1-2',\n",
       " u'1-2 days',\n",
       " u'1.',\n",
       " u'1.00',\n",
       " u'1.00 pm',\n",
       " u'1.15',\n",
       " u'1.30',\n",
       " u'1.30 pm',\n",
       " u'1.30pm',\n",
       " u'1.5',\n",
       " u'10',\n",
       " u'10 %',\n",
       " u\"10 'o\",\n",
       " u'10 )',\n",
       " u'10 ,',\n",
       " u'10 00',\n",
       " u'10 10',\n",
       " u'10 11',\n",
       " ...]"
      ]
     },
     "execution_count": 46,
     "metadata": {},
     "output_type": "execute_result"
    }
   ],
   "source": [
    "# learn the 'vocabulary' of the training data\n",
    "vect.fit(X_train1)\n",
    "\n",
    "# examine the fitted vocabulary\n",
    "vect.get_feature_names()"
   ]
  },
  {
   "cell_type": "markdown",
   "metadata": {
    "deletable": true,
    "editable": true
   },
   "source": [
    "Next, we transform training data into a 'document-term matrix'"
   ]
  },
  {
   "cell_type": "code",
   "execution_count": 47,
   "metadata": {
    "collapsed": false,
    "deletable": true,
    "editable": true
   },
   "outputs": [
    {
     "data": {
      "text/plain": [
       "<40659x21056 sparse matrix of type '<type 'numpy.int64'>'\n",
       "\twith 263128 stored elements in Compressed Sparse Row format>"
      ]
     },
     "execution_count": 47,
     "metadata": {},
     "output_type": "execute_result"
    }
   ],
   "source": [
    "simple_train_dtm = vect.transform(X_train1)\n",
    "simple_train_dtm"
   ]
  },
  {
   "cell_type": "code",
   "execution_count": 48,
   "metadata": {
    "collapsed": true,
    "deletable": true,
    "editable": true
   },
   "outputs": [],
   "source": [
    "test_dtm = vect.transform(X_test)"
   ]
  },
  {
   "cell_type": "markdown",
   "metadata": {
    "deletable": true,
    "editable": true
   },
   "source": [
    "Next, we examine the vocabulary and document-term matrix together"
   ]
  },
  {
   "cell_type": "code",
   "execution_count": 36,
   "metadata": {
    "collapsed": true,
    "deletable": true,
    "editable": true,
    "scrolled": true
   },
   "outputs": [],
   "source": [
    "# pd.DataFrame(simple_train_dtm.toarray(), columns=vect.get_feature_names())"
   ]
  },
  {
   "cell_type": "markdown",
   "metadata": {
    "deletable": true,
    "editable": true
   },
   "source": [
    "From the [scikit-learn documentation](http://scikit-learn.org/stable/modules/feature_extraction.html#text-feature-extraction):\n",
    "\n",
    "> In this scheme, features and samples are defined as follows:\n",
    "\n",
    "> - Each individual token occurrence frequency (normalized or not) is treated as a **feature**.\n",
    "> - The vector of all the token frequencies for a given document is considered a multivariate **sample**.\n",
    "\n",
    "> A **corpus of documents** can thus be represented by a matrix with **one row per document** and **one column per token** (e.g. word) occurring in the corpus.\n",
    "\n",
    "> We call **vectorization** the general process of turning a collection of text documents into numerical feature vectors. This specific strategy (tokenization, counting and normalization) is called the **Bag of Words** or \"Bag of n-grams\" representation. Documents are described by word occurrences while completely ignoring the relative position information of the words in the document."
   ]
  },
  {
   "cell_type": "code",
   "execution_count": 49,
   "metadata": {
    "collapsed": false,
    "deletable": true,
    "editable": true
   },
   "outputs": [
    {
     "name": "stdout",
     "output_type": "stream",
     "text": [
      "CPU times: user 220 ms, sys: 0 ns, total: 220 ms\n",
      "Wall time: 221 ms\n"
     ]
    },
    {
     "data": {
      "text/plain": [
       "MultinomialNB(alpha=1.0, class_prior=None, fit_prior=True)"
      ]
     },
     "execution_count": 49,
     "metadata": {},
     "output_type": "execute_result"
    }
   ],
   "source": [
    "# import and instantiate a Multinomial Naive Bayes model\n",
    "from sklearn.naive_bayes import MultinomialNB\n",
    "nb = MultinomialNB()"
   ]
  },
  {
   "cell_type": "code",
   "execution_count": 50,
   "metadata": {
    "collapsed": true,
    "deletable": true,
    "editable": true
   },
   "outputs": [],
   "source": [
    "# make class predictions for test_dtm\n",
    "y_pred_class = nb.predict(test_dtm)"
   ]
  },
  {
   "cell_type": "code",
   "execution_count": 51,
   "metadata": {
    "collapsed": false,
    "deletable": true,
    "editable": true
   },
   "outputs": [
    {
     "data": {
      "text/plain": [
       "0.73209999999999997"
      ]
     },
     "execution_count": 51,
     "metadata": {},
     "output_type": "execute_result"
    }
   ],
   "source": [
    "from sklearn import metrics\n",
    "metrics.accuracy_score(y_test, y_pred_class)"
   ]
  },
  {
   "cell_type": "code",
   "execution_count": 52,
   "metadata": {
    "collapsed": false,
    "deletable": true,
    "editable": true
   },
   "outputs": [
    {
     "data": {
      "text/plain": [
       "array([[2256,   27,   13,   24,   31,   53,   39,    2,  804],\n",
       "       [  39,  514,    0,   29,   10,   67,   14,    0,  137],\n",
       "       [   4,    5,  302,   25,    5,    0,    0,    1,   92],\n",
       "       [  34,   24,    4,  480,   35,    8,    3,    7,   97],\n",
       "       [ 146,   58,   14,   84, 1073,   44,   12,    6,  182],\n",
       "       [  12,    7,    1,    5,    5,  257,    2,    0,   35],\n",
       "       [ 104,    7,    2,    4,   11,   15,  604,    1,  111],\n",
       "       [  18,    2,    1,   34,   22,    2,    1,  115,   25],\n",
       "       [  21,   12,    2,   24,    3,    9,    1,    1, 1720]])"
      ]
     },
     "execution_count": 52,
     "metadata": {},
     "output_type": "execute_result"
    }
   ],
   "source": [
    "metrics.confusion_matrix(y_test, y_pred_class)"
   ]
  },
  {
   "cell_type": "markdown",
   "metadata": {
    "deletable": true,
    "editable": true
   },
   "source": [
    "## Text processing using `gensim`"
   ]
  },
  {
   "cell_type": "markdown",
   "metadata": {
    "deletable": true,
    "editable": true
   },
   "source": [
    "Install necessary packages: **gensim**  --> `pip install gensim`"
   ]
  },
  {
   "cell_type": "markdown",
   "metadata": {
    "deletable": true,
    "editable": true
   },
   "source": [
    "## Getting Started with Term Document Matrix using `nltk` and `stop-words`"
   ]
  },
  {
   "cell_type": "markdown",
   "metadata": {
    "deletable": true,
    "editable": true
   },
   "source": [
    "* Now we have *texts* - a tokenized, stopped and stemmed list of words from a single document\n",
    "* Let’s fast forward and loop through all our documents and appended each one to *texts*\n",
    "* So now *texts* is a list of lists, one list for each of our original documents"
   ]
  },
  {
   "cell_type": "code",
   "execution_count": 4,
   "metadata": {
    "collapsed": true,
    "deletable": true,
    "editable": true
   },
   "outputs": [],
   "source": [
    "from nltk.tokenize import RegexpTokenizer, TreebankWordTokenizer\n",
    "from stop_words import get_stop_words\n",
    "from nltk.stem.porter import PorterStemmer\n",
    "from gensim import corpora, models\n",
    "import gensim"
   ]
  },
  {
   "cell_type": "code",
   "execution_count": 6,
   "metadata": {
    "collapsed": true,
    "deletable": true,
    "editable": true
   },
   "outputs": [],
   "source": [
    "tokenizer = TreebankWordTokenizer()"
   ]
  },
  {
   "cell_type": "code",
   "execution_count": 7,
   "metadata": {
    "collapsed": true,
    "deletable": true,
    "editable": true
   },
   "outputs": [],
   "source": [
    "# create English stop words list\n",
    "en_stop = get_stop_words('en')"
   ]
  },
  {
   "cell_type": "code",
   "execution_count": 8,
   "metadata": {
    "collapsed": true,
    "deletable": true,
    "editable": true
   },
   "outputs": [],
   "source": [
    "# Create p_stemmer of class PorterStemmer\n",
    "p_stemmer = PorterStemmer()\n",
    "    "
   ]
  },
  {
   "cell_type": "code",
   "execution_count": 9,
   "metadata": {
    "collapsed": true,
    "deletable": true,
    "editable": true
   },
   "outputs": [],
   "source": [
    "# create sample documents\n",
    "doc_a = \"Brocolli is good to eat. My brother likes to eat good brocolli, but not my mother.\"\n",
    "doc_b = \"My mother spends a lot of time driving my brother around to baseball practice.\"\n",
    "doc_c = \"Some health experts suggest that driving may cause increased tension and blood pressure.\"\n",
    "doc_d = \"I often feel pressure to perform well at school, but my mother never seems to drive my brother to do better.\"\n",
    "doc_e = \"Health professionals say that brocolli is good for your health.\" "
   ]
  },
  {
   "cell_type": "code",
   "execution_count": 10,
   "metadata": {
    "collapsed": true,
    "deletable": true,
    "editable": true
   },
   "outputs": [],
   "source": [
    "# compile sample documents into a list\n",
    "doc_set = [doc_a, doc_b, doc_c, doc_d, doc_e]"
   ]
  },
  {
   "cell_type": "code",
   "execution_count": 11,
   "metadata": {
    "collapsed": true,
    "deletable": true,
    "editable": true
   },
   "outputs": [],
   "source": [
    "# list for tokenized documents in loop\n",
    "texts = []"
   ]
  },
  {
   "cell_type": "code",
   "execution_count": 23,
   "metadata": {
    "collapsed": false,
    "deletable": true,
    "editable": true
   },
   "outputs": [
    {
     "name": "stdout",
     "output_type": "stream",
     "text": [
      "([['brocolli', 'good', 'eat.', 'brother', u'like', 'eat', 'good', 'brocolli', ',', 'mother', '.'], ['mother', u'spend', 'lot', 'time', u'drive', 'brother', 'around', u'basebal', u'practic', '.'], ['health', u'expert', 'suggest', u'drive', 'may', u'caus', u'increas', 'tension', 'blood', u'pressur', '.'], ['often', 'feel', u'pressur', 'perform', 'well', 'school', ',', 'mother', 'never', u'seem', 'drive', 'brother', 'better', '.'], ['health', u'profession', 'say', 'brocolli', 'good', 'health', '.'], ['brocolli', 'good', 'eat.', 'brother', u'like', 'eat', 'good', 'brocolli', ',', 'mother', '.'], ['mother', u'spend', 'lot', 'time', u'drive', 'brother', 'around', u'basebal', u'practic', '.'], ['health', u'expert', 'suggest', u'drive', 'may', u'caus', u'increas', 'tension', 'blood', u'pressur', '.'], ['often', 'feel', u'pressur', 'perform', 'well', 'school', ',', 'mother', 'never', u'seem', 'drive', 'brother', 'better', '.'], ['health', u'profession', 'say', 'brocolli', 'good', 'health', '.'], ['brocolli', 'good', 'eat.', 'brother', u'like', 'eat', 'good', 'brocolli', ',', 'mother', '.'], ['mother', u'spend', 'lot', 'time', u'drive', 'brother', 'around', u'basebal', u'practic', '.'], ['health', u'expert', 'suggest', u'drive', 'may', u'caus', u'increas', 'tension', 'blood', u'pressur', '.'], ['often', 'feel', u'pressur', 'perform', 'well', 'school', ',', 'mother', 'never', u'seem', 'drive', 'brother', 'better', '.'], ['health', u'profession', 'say', 'brocolli', 'good', 'health', '.']], '\\n')\n",
      "===========================================\n",
      "['brocolli', 'good', 'eat.', 'brother', u'like', 'eat', 'good', 'brocolli', ',', 'mother', '.']\n",
      "['mother', u'spend', 'lot', 'time', u'drive', 'brother', 'around', u'basebal', u'practic', '.']\n",
      "['health', u'expert', 'suggest', u'drive', 'may', u'caus', u'increas', 'tension', 'blood', u'pressur', '.']\n",
      "['often', 'feel', u'pressur', 'perform', 'well', 'school', ',', 'mother', 'never', u'seem', 'drive', 'brother', 'better', '.']\n",
      "['health', u'profession', 'say', 'brocolli', 'good', 'health', '.']\n",
      "['brocolli', 'good', 'eat.', 'brother', u'like', 'eat', 'good', 'brocolli', ',', 'mother', '.']\n",
      "['mother', u'spend', 'lot', 'time', u'drive', 'brother', 'around', u'basebal', u'practic', '.']\n",
      "['health', u'expert', 'suggest', u'drive', 'may', u'caus', u'increas', 'tension', 'blood', u'pressur', '.']\n",
      "['often', 'feel', u'pressur', 'perform', 'well', 'school', ',', 'mother', 'never', u'seem', 'drive', 'brother', 'better', '.']\n",
      "['health', u'profession', 'say', 'brocolli', 'good', 'health', '.']\n",
      "['brocolli', 'good', 'eat.', 'brother', u'like', 'eat', 'good', 'brocolli', ',', 'mother', '.']\n",
      "['mother', u'spend', 'lot', 'time', u'drive', 'brother', 'around', u'basebal', u'practic', '.']\n",
      "['health', u'expert', 'suggest', u'drive', 'may', u'caus', u'increas', 'tension', 'blood', u'pressur', '.']\n",
      "['often', 'feel', u'pressur', 'perform', 'well', 'school', ',', 'mother', 'never', u'seem', 'drive', 'brother', 'better', '.']\n",
      "['health', u'profession', 'say', 'brocolli', 'good', 'health', '.']\n"
     ]
    }
   ],
   "source": [
    "# loop through document list\n",
    "for i in doc_set:\n",
    "    \n",
    "    # clean and tokenize document string\n",
    "    raw = i.lower()\n",
    "    tokens = tokenizer.tokenize(raw)\n",
    "\n",
    "    # remove stop words from tokens\n",
    "    stopped_tokens = [i for i in tokens if not i in en_stop]\n",
    "    \n",
    "    # stem tokens\n",
    "    stemmed_tokens = [p_stemmer.stem(i) for i in stopped_tokens]\n",
    "    \n",
    "    # add tokens to list\n",
    "    texts.append(stemmed_tokens)\n",
    "\n",
    "print(texts, \"\\n\")\n",
    "\n",
    "print(\"===========================================\")\n",
    "\n",
    "for line in texts:\n",
    "    print(line)"
   ]
  },
  {
   "cell_type": "markdown",
   "metadata": {
    "deletable": true,
    "editable": true
   },
   "source": [
    "## Topic Modeling"
   ]
  },
  {
   "cell_type": "markdown",
   "metadata": {
    "deletable": true,
    "editable": true
   },
   "source": [
    "https://en.wikipedia.org/wiki/Topic_model\n",
    "* A type of statistical model for discovering the abstract *topics* that occur in a collection of documents\n",
    "* Intuitively, given that a document is about a particular topic, one would expect particular words to appear in the document more or less frequently:\n",
    "    - *dog* and *bone* will appear more often in documents about dogs\n",
    "    - *cat* and *meow* will appear in documents about cats\n",
    "    - *the* and *is* will appear equally in both\n",
    "* A document typically concerns multiple topics in different proportions\n",
    "    - In a document that is 10% about cats and 90% about dogs, there would probably be about 9 times more dog words than cat words\n",
    "* The *topics* produced by topic modeling techniques are clusters of similar words"
   ]
  },
  {
   "cell_type": "markdown",
   "metadata": {
    "deletable": true,
    "editable": true
   },
   "source": [
    "## Latent Dirichlet Allocation"
   ]
  },
  {
   "cell_type": "markdown",
   "metadata": {
    "deletable": true,
    "editable": true
   },
   "source": [
    "https://en.wikipedia.org/wiki/Latent_Dirichlet_allocation\n",
    "* Latent Dirichlet Allocation (LDA) is a generative statistical model that allows sets of observations to be explained by unobserved groups that explain why some parts of the data are similar\n",
    "* For example, if observations are words collected into documents, then\n",
    "    - each document is a mixture of a small number of topics, and \n",
    "    - each word's creation is attributable to one of the document's topics"
   ]
  },
  {
   "cell_type": "markdown",
   "metadata": {
    "deletable": true,
    "editable": true
   },
   "source": [
    "## LDA Model\n",
    "\n",
    "* LDA assumes documents are produced from a mixture of topics.\n",
    "* Those topics then generate words based on their probability distribution, like the ones in our walkthrough model.\n",
    "* In other words, LDA assumes a document is made from the following steps:\n",
    "    - Determine the number of words in a document.\n",
    "    - Let’s say our document has 6 words.\n",
    "    - Determine the mixture of topics in that document\n",
    "        - For example, the document might contain 1/2 the topic “health” and 1/2 the topic “vegetables.”\n",
    "    - Using each topic’s multinomial distribution, output words to fill the document’s word slots.\n",
    "    - In our example, the “health” topic is 1/2 our document, or 3 words.\n",
    "    - The “health” topic might have the word “diet” at 20% probability or “exercise” at 15%, so it will fill the document word slots based on those probabilities.\n",
    "    * Given this assumption of how documents are created, LDA backtracks and tries to figure out what topics would create those documents in the first place.\n",
    "\n",
    "\n",
    "* To generate an LDA model, we need to understand how frequently each term occurs within each document\n",
    "\n",
    "\n",
    "\n",
    "To do that, we need to construct a document-term matrix with *gensim*"
   ]
  },
  {
   "cell_type": "code",
   "execution_count": 17,
   "metadata": {
    "collapsed": false,
    "deletable": true,
    "editable": true
   },
   "outputs": [
    {
     "name": "stdout",
     "output_type": "stream",
     "text": [
      "Dictionary(35 unique tokens: [u'often', u'feel', u'profession', u'drive', u'say']...)\n"
     ]
    }
   ],
   "source": [
    "from gensim import corpora, models\n",
    "\n",
    "dictionary = corpora.Dictionary(texts)\n",
    "print(dictionary)"
   ]
  },
  {
   "cell_type": "markdown",
   "metadata": {
    "deletable": true,
    "editable": true
   },
   "source": [
    "* The Dictionary() function traverses texts, assigning a unique integer id to each unique token while also collecting word counts and relevant statistics\n",
    "* To see each token’s unique integer id, try -"
   ]
  },
  {
   "cell_type": "code",
   "execution_count": 18,
   "metadata": {
    "collapsed": false,
    "deletable": true,
    "editable": true
   },
   "outputs": [
    {
     "name": "stdout",
     "output_type": "stream",
     "text": [
      "{u'often': 26, u'feel': 27, u'profession': 34, u'drive': 11, u'say': 33, u'pressur': 21, u'basebal': 10, u'seem': 32, u'better': 30, u'expert': 17, u'perform': 31, u'suggest': 19, u',': 3, u'.': 7, u'eat.': 5, u'health': 22, u'lot': 12, u'tension': 16, u'good': 1, u'around': 9, u'may': 18, u'mother': 6, u'school': 25, u'blood': 23, u'never': 28, u'increas': 24, u'eat': 8, u'practic': 15, u'brocolli': 0, u'like': 2, u'well': 29, u'brother': 4, u'caus': 20, u'time': 13, u'spend': 14}\n"
     ]
    }
   ],
   "source": [
    "print(dictionary.token2id)"
   ]
  },
  {
   "cell_type": "markdown",
   "metadata": {
    "deletable": true,
    "editable": true
   },
   "source": [
    "Next, our dictionary must be converted into a [bag-of-words](https://en.wikipedia.org/wiki/Bag-of-words_model) -"
   ]
  },
  {
   "cell_type": "code",
   "execution_count": 19,
   "metadata": {
    "collapsed": false,
    "deletable": true,
    "editable": true
   },
   "outputs": [
    {
     "name": "stdout",
     "output_type": "stream",
     "text": [
      "[[(0, 2), (1, 2), (2, 1), (3, 1), (4, 1), (5, 1), (6, 1), (7, 1), (8, 1)], [(4, 1), (6, 1), (7, 1), (9, 1), (10, 1), (11, 1), (12, 1), (13, 1), (14, 1), (15, 1)], [(7, 1), (11, 1), (16, 1), (17, 1), (18, 1), (19, 1), (20, 1), (21, 1), (22, 1), (23, 1), (24, 1)], [(3, 1), (4, 1), (6, 1), (7, 1), (11, 1), (21, 1), (25, 1), (26, 1), (27, 1), (28, 1), (29, 1), (30, 1), (31, 1), (32, 1)], [(0, 1), (1, 1), (7, 1), (22, 2), (33, 1), (34, 1)], [(0, 2), (1, 2), (2, 1), (3, 1), (4, 1), (5, 1), (6, 1), (7, 1), (8, 1)], [(4, 1), (6, 1), (7, 1), (9, 1), (10, 1), (11, 1), (12, 1), (13, 1), (14, 1), (15, 1)], [(7, 1), (11, 1), (16, 1), (17, 1), (18, 1), (19, 1), (20, 1), (21, 1), (22, 1), (23, 1), (24, 1)], [(3, 1), (4, 1), (6, 1), (7, 1), (11, 1), (21, 1), (25, 1), (26, 1), (27, 1), (28, 1), (29, 1), (30, 1), (31, 1), (32, 1)], [(0, 1), (1, 1), (7, 1), (22, 2), (33, 1), (34, 1)]]\n"
     ]
    }
   ],
   "source": [
    "corpus = [dictionary.doc2bow(text) for text in texts]\n",
    "print(corpus)"
   ]
  },
  {
   "cell_type": "code",
   "execution_count": 20,
   "metadata": {
    "collapsed": false,
    "deletable": true,
    "editable": true
   },
   "outputs": [
    {
     "name": "stdout",
     "output_type": "stream",
     "text": [
      "[(0, 2), (1, 2), (2, 1), (3, 1), (4, 1), (5, 1), (6, 1), (7, 1), (8, 1)]\n"
     ]
    }
   ],
   "source": [
    "print(corpus[0])"
   ]
  },
  {
   "cell_type": "code",
   "execution_count": 21,
   "metadata": {
    "collapsed": false,
    "deletable": true,
    "editable": true
   },
   "outputs": [
    {
     "name": "stdout",
     "output_type": "stream",
     "text": [
      "[(4, 1), (6, 1), (7, 1), (9, 1), (10, 1), (11, 1), (12, 1), (13, 1), (14, 1), (15, 1)]\n"
     ]
    }
   ],
   "source": [
    "print(corpus[1])"
   ]
  },
  {
   "cell_type": "code",
   "execution_count": 26,
   "metadata": {
    "collapsed": false,
    "deletable": true,
    "editable": true
   },
   "outputs": [
    {
     "name": "stdout",
     "output_type": "stream",
     "text": [
      "[(0, 2), (1, 2), (2, 1), (3, 1), (4, 1), (5, 1), (6, 1), (7, 1), (8, 1)]\n",
      "[(4, 1), (6, 1), (7, 1), (9, 1), (10, 1), (11, 1), (12, 1), (13, 1), (14, 1), (15, 1)]\n",
      "[(7, 1), (11, 1), (16, 1), (17, 1), (18, 1), (19, 1), (20, 1), (21, 1), (22, 1), (23, 1), (24, 1)]\n",
      "[(3, 1), (4, 1), (6, 1), (7, 1), (11, 1), (21, 1), (25, 1), (26, 1), (27, 1), (28, 1), (29, 1), (30, 1), (31, 1), (32, 1)]\n",
      "[(0, 1), (1, 1), (7, 1), (22, 2), (33, 1), (34, 1)]\n",
      "[(0, 2), (1, 2), (2, 1), (3, 1), (4, 1), (5, 1), (6, 1), (7, 1), (8, 1)]\n",
      "[(4, 1), (6, 1), (7, 1), (9, 1), (10, 1), (11, 1), (12, 1), (13, 1), (14, 1), (15, 1)]\n",
      "[(7, 1), (11, 1), (16, 1), (17, 1), (18, 1), (19, 1), (20, 1), (21, 1), (22, 1), (23, 1), (24, 1)]\n",
      "[(3, 1), (4, 1), (6, 1), (7, 1), (11, 1), (21, 1), (25, 1), (26, 1), (27, 1), (28, 1), (29, 1), (30, 1), (31, 1), (32, 1)]\n",
      "[(0, 1), (1, 1), (7, 1), (22, 2), (33, 1), (34, 1)]\n"
     ]
    }
   ],
   "source": [
    "for line in corpus:\n",
    "    print(line)"
   ]
  },
  {
   "cell_type": "markdown",
   "metadata": {
    "deletable": true,
    "editable": true
   },
   "source": [
    "* The doc2bow() function converts dictionary into a bag-of-words\n",
    "* The result, *corpus*, is a list of vectors equal to the number of documents\n",
    "* In each document vector is a series of tuples\n",
    "* The tuples are (term ID, term frequency) pairs\n",
    "* This includes terms that actually occur - terms that do not occur in a document will not appear in that document’s vector"
   ]
  },
  {
   "cell_type": "markdown",
   "metadata": {
    "deletable": true,
    "editable": true
   },
   "source": [
    "Looking at the data above, please answer the following:\n",
    "* How many times does *basebal* occur in *doc_a*?\n",
    "* How many times does *basebal* occur in *doc_b*?\n",
    "* How many times does *health* occur in *doc_e*?\n",
    "* Give an example of a word that occurs in *doc_a* but doesn't occur in *doc_b*.\n",
    "* How many times does *brother* occur in all the documents?"
   ]
  },
  {
   "cell_type": "markdown",
   "metadata": {
    "deletable": true,
    "editable": true
   },
   "source": [
    "# The LDA Model"
   ]
  },
  {
   "cell_type": "markdown",
   "metadata": {
    "deletable": true,
    "editable": true
   },
   "source": [
    "*corpus* is a (sparse) document-term matrix and now we’re ready to generate an LDA model"
   ]
  },
  {
   "cell_type": "code",
   "execution_count": 27,
   "metadata": {
    "collapsed": true,
    "deletable": true,
    "editable": true
   },
   "outputs": [],
   "source": [
    "ldamodel = gensim.models.ldamodel.LdaModel(corpus, num_topics=3, id2word = dictionary, passes=20)"
   ]
  },
  {
   "cell_type": "markdown",
   "metadata": {
    "deletable": true,
    "editable": true
   },
   "source": [
    "https://radimrehurek.com/gensim/models/ldamodel.html\n",
    "* num_topics\n",
    "    - required\n",
    "    - An LDA model requires the user to determine how many topics should be generated\n",
    "    - Our document set is small, so we’re only asking for three topics\n",
    "* id2word\n",
    "    - required\n",
    "    - The LdaModel class requires our previous dictionary to map ids to strings\n",
    "* passes\n",
    "    - optional\n",
    "    - The number of laps the model will take through corpus\n",
    "    - The greater the number of passes, the more accurate the model will be\n",
    "    - A lot of passes can be slow on a very large corpus."
   ]
  },
  {
   "cell_type": "code",
   "execution_count": 28,
   "metadata": {
    "collapsed": false,
    "deletable": true,
    "editable": true
   },
   "outputs": [
    {
     "name": "stdout",
     "output_type": "stream",
     "text": [
      "LdaModel(num_terms=35, num_topics=3, decay=0.5, chunksize=2000)\n"
     ]
    }
   ],
   "source": [
    "print(ldamodel)"
   ]
  },
  {
   "cell_type": "code",
   "execution_count": 29,
   "metadata": {
    "collapsed": false,
    "deletable": true,
    "editable": true
   },
   "outputs": [
    {
     "name": "stdout",
     "output_type": "stream",
     "text": [
      "[(0, u'0.084*\".\" + 0.063*\"mother\" + 0.063*\"brother\" + 0.063*\"drive\" + 0.061*\"health\" + 0.034*\"perform\" + 0.034*\"seem\" + 0.034*\"school\" + 0.034*\"never\" + 0.034*\"well\"'), (1, u'0.070*\"health\" + 0.069*\".\" + 0.069*\"pressur\" + 0.069*\"drive\" + 0.069*\"tension\" + 0.069*\"caus\" + 0.069*\"blood\" + 0.069*\"expert\" + 0.069*\"may\" + 0.069*\"increas\"'), (2, u'0.163*\"brocolli\" + 0.163*\"good\" + 0.076*\".\" + 0.061*\",\" + 0.061*\"brother\" + 0.061*\"mother\" + 0.061*\"eat.\" + 0.061*\"like\" + 0.061*\"eat\" + 0.010*\"say\"')]\n"
     ]
    }
   ],
   "source": [
    "print(ldamodel.print_topics())"
   ]
  },
  {
   "cell_type": "code",
   "execution_count": 30,
   "metadata": {
    "collapsed": false,
    "deletable": true,
    "editable": true
   },
   "outputs": [
    {
     "name": "stdout",
     "output_type": "stream",
     "text": [
      "[(2, u'0.163*\"brocolli\" + 0.163*\"good\" + 0.076*\".\" + 0.061*\",\" + 0.061*\"brother\" + 0.061*\"mother\" + 0.061*\"eat.\" + 0.061*\"like\" + 0.061*\"eat\" + 0.010*\"say\"'), (0, u'0.084*\".\" + 0.063*\"mother\" + 0.063*\"brother\" + 0.063*\"drive\" + 0.061*\"health\" + 0.034*\"perform\" + 0.034*\"seem\" + 0.034*\"school\" + 0.034*\"never\" + 0.034*\"well\"')]\n"
     ]
    }
   ],
   "source": [
    "print(ldamodel.print_topics(num_topics=2))"
   ]
  },
  {
   "cell_type": "code",
   "execution_count": 31,
   "metadata": {
    "collapsed": false,
    "deletable": true,
    "editable": true
   },
   "outputs": [
    {
     "name": "stdout",
     "output_type": "stream",
     "text": [
      "[(0, u'0.084*\".\" + 0.063*\"mother\" + 0.063*\"brother\"'), (1, u'0.070*\"health\" + 0.069*\".\" + 0.069*\"pressur\"'), (2, u'0.163*\"brocolli\" + 0.163*\"good\" + 0.076*\".\"')]\n"
     ]
    }
   ],
   "source": [
    "print(ldamodel.print_topics(num_topics=3, num_words=3))"
   ]
  },
  {
   "cell_type": "markdown",
   "metadata": {
    "deletable": true,
    "editable": true
   },
   "source": [
    "* Each generated topic is separated by a comma\n",
    "* Within each topic are the three most probable words to appear in that topic\n",
    "\n",
    "Let's now look at a topic in detail - "
   ]
  },
  {
   "cell_type": "code",
   "execution_count": 32,
   "metadata": {
    "collapsed": false,
    "deletable": true,
    "editable": true
   },
   "outputs": [
    {
     "name": "stdout",
     "output_type": "stream",
     "text": [
      "0.084*\".\" + 0.063*\"mother\" + 0.063*\"brother\" + 0.063*\"drive\" + 0.061*\"health\" + 0.034*\"perform\" + 0.034*\"seem\" + 0.034*\"school\" + 0.034*\"never\" + 0.034*\"well\"\n"
     ]
    }
   ],
   "source": [
    "print(ldamodel.print_topic(topicno=0))"
   ]
  },
  {
   "cell_type": "code",
   "execution_count": 33,
   "metadata": {
    "collapsed": false,
    "deletable": true,
    "editable": true
   },
   "outputs": [
    {
     "name": "stdout",
     "output_type": "stream",
     "text": [
      "0.070*\"health\" + 0.069*\".\" + 0.069*\"pressur\" + 0.069*\"drive\" + 0.069*\"tension\" + 0.069*\"caus\" + 0.069*\"blood\" + 0.069*\"expert\" + 0.069*\"may\" + 0.069*\"increas\"\n"
     ]
    }
   ],
   "source": [
    "print(ldamodel.print_topic(topicno=1))"
   ]
  },
  {
   "cell_type": "code",
   "execution_count": 34,
   "metadata": {
    "collapsed": false,
    "deletable": true,
    "editable": true
   },
   "outputs": [
    {
     "name": "stdout",
     "output_type": "stream",
     "text": [
      "0.163*\"brocolli\" + 0.163*\"good\" + 0.076*\".\" + 0.061*\",\" + 0.061*\"brother\" + 0.061*\"mother\" + 0.061*\"eat.\" + 0.061*\"like\" + 0.061*\"eat\" + 0.010*\"say\"\n"
     ]
    }
   ],
   "source": [
    "print(ldamodel.print_topic(topicno=2))"
   ]
  },
  {
   "cell_type": "markdown",
   "metadata": {
    "deletable": true,
    "editable": true
   },
   "source": [
    "## Refine the model"
   ]
  },
  {
   "cell_type": "code",
   "execution_count": 36,
   "metadata": {
    "collapsed": false,
    "deletable": true,
    "editable": true
   },
   "outputs": [
    {
     "name": "stdout",
     "output_type": "stream",
     "text": [
      "(0, u'0.084*\".\" + 0.063*\"mother\" + 0.063*\"brother\"')\n",
      "(1, u'0.070*\"health\" + 0.069*\".\" + 0.069*\"pressur\"')\n",
      "(2, u'0.163*\"brocolli\" + 0.163*\"good\" + 0.076*\".\"')\n"
     ]
    }
   ],
   "source": [
    "for line in ldamodel.print_topics(num_topics=3, num_words=3):\n",
    "    print(line)"
   ]
  },
  {
   "cell_type": "markdown",
   "metadata": {
    "deletable": true,
    "editable": true
   },
   "source": [
    "* Even though our document set is small the model is reasonable\n",
    "* Third Topic - health, brocolli and good make sense together"
   ]
  },
  {
   "cell_type": "code",
   "execution_count": 41,
   "metadata": {
    "collapsed": true,
    "deletable": true,
    "editable": true
   },
   "outputs": [],
   "source": [
    "ldamodel = gensim.models.ldamodel.LdaModel(corpus, num_topics=2, id2word = dictionary, passes=20)"
   ]
  },
  {
   "cell_type": "code",
   "execution_count": 37,
   "metadata": {
    "collapsed": false,
    "deletable": true,
    "editable": true
   },
   "outputs": [
    {
     "name": "stdout",
     "output_type": "stream",
     "text": [
      "(2, u'0.163*\"brocolli\" + 0.163*\"good\" + 0.076*\".\" + 0.061*\",\"')\n",
      "(1, u'0.070*\"health\" + 0.069*\".\" + 0.069*\"pressur\" + 0.069*\"drive\"')\n"
     ]
    }
   ],
   "source": [
    "for line in ldamodel.print_topics(num_topics=2, num_words=4):\n",
    "    print(line)"
   ]
  },
  {
   "cell_type": "markdown",
   "metadata": {
    "deletable": true,
    "editable": true
   },
   "source": [
    "Let's try it with more passes"
   ]
  },
  {
   "cell_type": "code",
   "execution_count": 42,
   "metadata": {
    "collapsed": true,
    "deletable": true,
    "editable": true
   },
   "outputs": [],
   "source": [
    "ldamodel = gensim.models.ldamodel.LdaModel(corpus, num_topics=2, id2word = dictionary, passes=200)"
   ]
  },
  {
   "cell_type": "code",
   "execution_count": 43,
   "metadata": {
    "collapsed": false,
    "deletable": true,
    "editable": true
   },
   "outputs": [
    {
     "name": "stdout",
     "output_type": "stream",
     "text": [
      "(0, u'0.070*\"mother\" + 0.070*\"brother\" + 0.069*\"drive\" + 0.069*\".\"')\n",
      "(1, u'0.086*\"health\" + 0.086*\"brocolli\" + 0.086*\"good\" + 0.086*\".\"')\n"
     ]
    }
   ],
   "source": [
    "for line in ldamodel.print_topics(num_topics=2, num_words=4):\n",
    "    print(line)"
   ]
  }
 ],
 "metadata": {
  "anaconda-cloud": {},
  "kernelspec": {
   "display_name": "Python 3",
   "language": "python",
   "name": "python3"
  },
  "language_info": {
   "codemirror_mode": {
    "name": "ipython",
    "version": 3
   },
   "file_extension": ".py",
   "mimetype": "text/x-python",
   "name": "python",
   "nbconvert_exporter": "python",
   "pygments_lexer": "ipython3",
   "version": "3.6.0"
  },
  "widgets": {
   "state": {},
   "version": "1.1.2"
  }
 },
 "nbformat": 4,
 "nbformat_minor": 1
}
